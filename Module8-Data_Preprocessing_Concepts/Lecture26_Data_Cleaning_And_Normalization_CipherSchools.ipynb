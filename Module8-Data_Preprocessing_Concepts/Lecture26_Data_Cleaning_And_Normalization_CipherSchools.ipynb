{
  "nbformat": 4,
  "nbformat_minor": 0,
  "metadata": {
    "colab": {
      "provenance": [],
      "toc_visible": true
    },
    "kernelspec": {
      "name": "python3",
      "display_name": "Python 3"
    },
    "language_info": {
      "name": "python"
    }
  },
  "cells": [
    {
      "cell_type": "markdown",
      "source": [
        "# Data Cleaning and Normalization"
      ],
      "metadata": {
        "id": "VHF1z-FDXrkX"
      }
    },
    {
      "cell_type": "markdown",
      "source": [
        "**Definition**\n",
        "\n",
        "\n",
        "*   **Data Cleaning**: Data Cleaning involves identifying and correcting (or removing) errors or inconsistencies in the data to improve its quality. Common tasks include handling missing values, removing duplicates, correcting errors, and ensure consistency in data.\n",
        "*   **Normalization**: Normalization is the process of scaling numerical data to a standard range, typically between 0 and 1, or transforming it to have a mean of 0 and a standard deviation of 1. This process helps improve the performance of machine learning algorithms and ensures that all features contribute equally to the result.\n",
        "\n",
        "**Use Case in Real Life**:\n",
        "\n",
        "*   **Preparing Data for Machine Learning**: Handle missing values and remove duplicates to ensure clean data. Normalize features to improve the performance of machine learning algorithms.\n",
        "*   **Financial Data Analysis**: Correct errors in transaction data and fill missing values. Normalize financial metrics for comparison across different scales.\n",
        "* **Customer Data Engagement**: Ensure consistency in customer records and correct erroneous entries. Normalize customer age and income data for segmentation analysis.\n",
        "\n",
        "\n"
      ],
      "metadata": {
        "id": "alYHo6mkXxGp"
      }
    },
    {
      "cell_type": "markdown",
      "source": [
        "# Loading the Dataset"
      ],
      "metadata": {
        "id": "L6zccFFnkF5E"
      }
    },
    {
      "cell_type": "code",
      "source": [
        "import pandas as pd\n",
        "\n",
        "# Load the dataset\n",
        "df = pd.read_excel(\"Sample_data.xlsx\")\n",
        "print(df)"
      ],
      "metadata": {
        "colab": {
          "base_uri": "https://localhost:8080/"
        },
        "id": "O7hR9dcRkJro",
        "outputId": "986cc261-c2bd-4c93-8a0c-dc53ae151c4c"
      },
      "execution_count": 8,
      "outputs": [
        {
          "output_type": "stream",
          "name": "stdout",
          "text": [
            "      Name   Age  Salary    Department\n",
            "0    Alice  25.0  50000.0           HR\n",
            "1      Bob  30.0      NaN  Engineering\n",
            "2  Charlie  35.0  70000.0  Engineering\n",
            "3    David   NaN  60000.0           HR\n",
            "4      Eve  28.0  80000.0           HR\n",
            "5    Frank  40.0  55000.0        Sales\n",
            "6    Grace  50.0  85000.0        Sales\n",
            "7     Hank  60.0  90000.0        Sales\n"
          ]
        }
      ]
    },
    {
      "cell_type": "markdown",
      "source": [
        "# Identifying Missing Values"
      ],
      "metadata": {
        "id": "bnNZNhWBkzks"
      }
    },
    {
      "cell_type": "code",
      "source": [
        "# Check for missing values\n",
        "print(df.isnull().sum())"
      ],
      "metadata": {
        "colab": {
          "base_uri": "https://localhost:8080/"
        },
        "id": "WVrF99QLk42I",
        "outputId": "f26c5ae3-fa27-420a-a9ed-5c43bfe26301"
      },
      "execution_count": 9,
      "outputs": [
        {
          "output_type": "stream",
          "name": "stdout",
          "text": [
            "Name          0\n",
            "Age           1\n",
            "Salary        1\n",
            "Department    0\n",
            "dtype: int64\n"
          ]
        }
      ]
    },
    {
      "cell_type": "code",
      "source": [
        "df.info()"
      ],
      "metadata": {
        "colab": {
          "base_uri": "https://localhost:8080/"
        },
        "id": "fCGZKoNmlA44",
        "outputId": "d39a3b74-9c08-473f-ad15-a9f7efac6a4d"
      },
      "execution_count": 10,
      "outputs": [
        {
          "output_type": "stream",
          "name": "stdout",
          "text": [
            "<class 'pandas.core.frame.DataFrame'>\n",
            "RangeIndex: 8 entries, 0 to 7\n",
            "Data columns (total 4 columns):\n",
            " #   Column      Non-Null Count  Dtype  \n",
            "---  ------      --------------  -----  \n",
            " 0   Name        8 non-null      object \n",
            " 1   Age         7 non-null      float64\n",
            " 2   Salary      7 non-null      float64\n",
            " 3   Department  8 non-null      object \n",
            "dtypes: float64(2), object(2)\n",
            "memory usage: 384.0+ bytes\n"
          ]
        }
      ]
    },
    {
      "cell_type": "markdown",
      "source": [
        "# Removing rows with missing values"
      ],
      "metadata": {
        "id": "JQWq63Oxq4vu"
      }
    },
    {
      "cell_type": "code",
      "source": [
        "# removing rows with missing values\n",
        "df_cleaned = df.dropna()\n",
        "print(df_cleaned)"
      ],
      "metadata": {
        "colab": {
          "base_uri": "https://localhost:8080/"
        },
        "id": "_q4K4TQYq-o6",
        "outputId": "fa4e06b2-3289-4828-88e5-374db9df496b"
      },
      "execution_count": 17,
      "outputs": [
        {
          "output_type": "stream",
          "name": "stdout",
          "text": [
            "      Name   Age  Salary    Department\n",
            "0    Alice  25.0  50000.0           HR\n",
            "2  Charlie  35.0  70000.0  Engineering\n",
            "4      Eve  28.0  80000.0           HR\n",
            "5    Frank  40.0  55000.0        Sales\n",
            "6    Grace  50.0  85000.0        Sales\n",
            "7     Hank  60.0  90000.0        Sales\n"
          ]
        }
      ]
    },
    {
      "cell_type": "markdown",
      "source": [
        "# Filling Missing Values"
      ],
      "metadata": {
        "id": "o60yWIQNr5L2"
      }
    },
    {
      "cell_type": "code",
      "source": [
        "# Fill missing values with a specific value\n",
        "df_filled = df.fillna({\n",
        "    'Age' : df['Age'].mean(),\n",
        "    'Salary': df['Salary '].mean()\n",
        "})\n",
        "print(df_filled)"
      ],
      "metadata": {
        "colab": {
          "base_uri": "https://localhost:8080/"
        },
        "id": "lB8htJyIr9zr",
        "outputId": "de7525ab-dbf6-49a4-fe9f-cd1571c003ec"
      },
      "execution_count": 21,
      "outputs": [
        {
          "output_type": "stream",
          "name": "stdout",
          "text": [
            "      Name        Age  Salary    Department\n",
            "0    Alice  25.000000  50000.0           HR\n",
            "1      Bob  30.000000      NaN  Engineering\n",
            "2  Charlie  35.000000  70000.0  Engineering\n",
            "3    David  38.285714  60000.0           HR\n",
            "4      Eve  28.000000  80000.0           HR\n",
            "5    Frank  40.000000  55000.0        Sales\n",
            "6    Grace  50.000000  85000.0        Sales\n",
            "7     Hank  60.000000  90000.0        Sales\n"
          ]
        }
      ]
    },
    {
      "cell_type": "markdown",
      "source": [
        "# Forward Fill Method"
      ],
      "metadata": {
        "id": "H__ooXfHyv7W"
      }
    },
    {
      "cell_type": "code",
      "source": [
        "# Forward Fill Method to propagate the next values backward\n",
        "df_ffill = df.fillna(method='ffill')\n",
        "print(df_ffill)"
      ],
      "metadata": {
        "colab": {
          "base_uri": "https://localhost:8080/"
        },
        "id": "AY2ghfpNyzoz",
        "outputId": "b989e358-9ad7-44b3-d76f-4d91032dfc0b"
      },
      "execution_count": 22,
      "outputs": [
        {
          "output_type": "stream",
          "name": "stdout",
          "text": [
            "      Name   Age  Salary    Department\n",
            "0    Alice  25.0  50000.0           HR\n",
            "1      Bob  30.0  50000.0  Engineering\n",
            "2  Charlie  35.0  70000.0  Engineering\n",
            "3    David  35.0  60000.0           HR\n",
            "4      Eve  28.0  80000.0           HR\n",
            "5    Frank  40.0  55000.0        Sales\n",
            "6    Grace  50.0  85000.0        Sales\n",
            "7     Hank  60.0  90000.0        Sales\n"
          ]
        }
      ]
    },
    {
      "cell_type": "markdown",
      "source": [
        "# Backward Fill Method"
      ],
      "metadata": {
        "id": "T8m3wglozI11"
      }
    },
    {
      "cell_type": "code",
      "source": [
        "# Backward Fill Method to propagate the next values forward\n",
        "df_bfill = df.fillna(method='bfill')\n",
        "print(df_bfill)"
      ],
      "metadata": {
        "colab": {
          "base_uri": "https://localhost:8080/"
        },
        "id": "j7eS0Pf-zM68",
        "outputId": "9ec9ebd1-0097-413f-c0d0-27a9eab11838"
      },
      "execution_count": 23,
      "outputs": [
        {
          "output_type": "stream",
          "name": "stdout",
          "text": [
            "      Name   Age  Salary    Department\n",
            "0    Alice  25.0  50000.0           HR\n",
            "1      Bob  30.0  70000.0  Engineering\n",
            "2  Charlie  35.0  70000.0  Engineering\n",
            "3    David  28.0  60000.0           HR\n",
            "4      Eve  28.0  80000.0           HR\n",
            "5    Frank  40.0  55000.0        Sales\n",
            "6    Grace  50.0  85000.0        Sales\n",
            "7     Hank  60.0  90000.0        Sales\n"
          ]
        }
      ]
    },
    {
      "cell_type": "markdown",
      "source": [
        "# Removing Duplicates"
      ],
      "metadata": {
        "id": "pzu8cTHkzd1z"
      }
    },
    {
      "cell_type": "code",
      "source": [
        "# Add duplicate rows for demonstartion\n",
        "df = pd.concat([df, df.iloc[[0]], df.iloc[[1]]], ignore_index = True)\n",
        "print(\"Before removing duplicates:\\n\", df)\n",
        "\n",
        "# Remove duplicate rows\n",
        "df_no_duplicates = df.drop_duplicates()\n",
        "print(\"After removing duplicates:\\n\", df_no_duplicates)"
      ],
      "metadata": {
        "colab": {
          "base_uri": "https://localhost:8080/"
        },
        "id": "EO9iINpYzhUh",
        "outputId": "0eda071e-b2fa-4584-f4fb-7afe13e2393a"
      },
      "execution_count": 24,
      "outputs": [
        {
          "output_type": "stream",
          "name": "stdout",
          "text": [
            "Before removing duplicates:\n",
            "       Name   Age  Salary    Department\n",
            "0    Alice  25.0  50000.0           HR\n",
            "1      Bob  30.0      NaN  Engineering\n",
            "2  Charlie  35.0  70000.0  Engineering\n",
            "3    David   NaN  60000.0           HR\n",
            "4      Eve  28.0  80000.0           HR\n",
            "5    Frank  40.0  55000.0        Sales\n",
            "6    Grace  50.0  85000.0        Sales\n",
            "7     Hank  60.0  90000.0        Sales\n",
            "8    Alice  25.0  50000.0           HR\n",
            "9      Bob  30.0      NaN  Engineering\n",
            "After removing duplicates:\n",
            "       Name   Age  Salary    Department\n",
            "0    Alice  25.0  50000.0           HR\n",
            "1      Bob  30.0      NaN  Engineering\n",
            "2  Charlie  35.0  70000.0  Engineering\n",
            "3    David   NaN  60000.0           HR\n",
            "4      Eve  28.0  80000.0           HR\n",
            "5    Frank  40.0  55000.0        Sales\n",
            "6    Grace  50.0  85000.0        Sales\n",
            "7     Hank  60.0  90000.0        Sales\n"
          ]
        }
      ]
    },
    {
      "cell_type": "markdown",
      "source": [
        "# Replacing Incorrect Values"
      ],
      "metadata": {
        "id": "ci_e_6Lx66Jy"
      }
    },
    {
      "cell_type": "code",
      "source": [
        "# Replace incorrect values in the 'Department' column\n",
        "df_corrected = df.replace({\n",
        "    'Department' : {'HR' : 'Human Resources', 'Sales' : 'Sales Department'}\n",
        "})\n",
        "print(df_corrected)"
      ],
      "metadata": {
        "colab": {
          "base_uri": "https://localhost:8080/"
        },
        "id": "Xg2yyc8x6-R6",
        "outputId": "a51b9914-6bf9-4df2-e7e1-c2200b7d6432"
      },
      "execution_count": 25,
      "outputs": [
        {
          "output_type": "stream",
          "name": "stdout",
          "text": [
            "      Name   Age  Salary         Department\n",
            "0    Alice  25.0  50000.0   Human Resources\n",
            "1      Bob  30.0      NaN       Engineering\n",
            "2  Charlie  35.0  70000.0       Engineering\n",
            "3    David   NaN  60000.0   Human Resources\n",
            "4      Eve  28.0  80000.0   Human Resources\n",
            "5    Frank  40.0  55000.0  Sales Department\n",
            "6    Grace  50.0  85000.0  Sales Department\n",
            "7     Hank  60.0  90000.0  Sales Department\n",
            "8    Alice  25.0  50000.0   Human Resources\n",
            "9      Bob  30.0      NaN       Engineering\n"
          ]
        }
      ]
    },
    {
      "cell_type": "markdown",
      "source": [
        "# Ensuring Consistency"
      ],
      "metadata": {
        "id": "SdlFszx77il2"
      }
    },
    {
      "cell_type": "code",
      "source": [
        "# Convert all department names to lowercase for consistency\n",
        "df['Department'] = df['Department'].str.lower()\n",
        "print(df)"
      ],
      "metadata": {
        "colab": {
          "base_uri": "https://localhost:8080/"
        },
        "id": "w0L-XyGS9LbL",
        "outputId": "765606a0-b4c2-4222-a2e4-914a759fef0d"
      },
      "execution_count": 27,
      "outputs": [
        {
          "output_type": "stream",
          "name": "stdout",
          "text": [
            "      Name   Age  Salary    Department\n",
            "0    Alice  25.0  50000.0           hr\n",
            "1      Bob  30.0      NaN  engineering\n",
            "2  Charlie  35.0  70000.0  engineering\n",
            "3    David   NaN  60000.0           hr\n",
            "4      Eve  28.0  80000.0           hr\n",
            "5    Frank  40.0  55000.0        sales\n",
            "6    Grace  50.0  85000.0        sales\n",
            "7     Hank  60.0  90000.0        sales\n",
            "8    Alice  25.0  50000.0           hr\n",
            "9      Bob  30.0      NaN  engineering\n"
          ]
        }
      ]
    },
    {
      "cell_type": "markdown",
      "source": [
        "# Min Max Normalization"
      ],
      "metadata": {
        "id": "aa6gzxx3JYb6"
      }
    },
    {
      "cell_type": "markdown",
      "source": [
        "**Definition**-\n",
        "\n",
        "*   Min-Max Normalization is a technique to rescale the values of a feature to a fixed range, usually [0,1]\n",
        "*   This is done by transforming each value in the feature such that it fits within the specified range.\n",
        "\n",
        "**Formula**:\n",
        "\n"
      ],
      "metadata": {
        "id": "V38HeG1QK1P6"
      }
    },
    {
      "cell_type": "markdown",
      "source": [
        "![Screenshot 2024-06-26 211452.png](data:image/png;base64,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)"
      ],
      "metadata": {
        "id": "QjRlerSxOUC7"
      }
    },
    {
      "cell_type": "markdown",
      "source": [
        "![Screenshot 2024-06-26 211621.png](data:image/png;base64,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)"
      ],
      "metadata": {
        "id": "SbLxsN0YOYTx"
      }
    },
    {
      "cell_type": "code",
      "source": [
        "# Apply Min-Max Normalization using the formula\n",
        "df_normalized = df.copy()\n",
        "for col in ['Age', 'Salary ']:\n",
        "  df_normalized[col] = (df[col] - df[col].min()) / (df[col].max() - df[col].min())\n",
        "\n",
        "# Print original and normalized values\n",
        "print(\"Original Values:\")\n",
        "print(df)\n",
        "print(\"\\nNormalized Values:\")\n",
        "print(df_normalized)"
      ],
      "metadata": {
        "colab": {
          "base_uri": "https://localhost:8080/"
        },
        "id": "tHO44XbZJb2A",
        "outputId": "361b6fa0-5657-4b03-98bc-9ebc064e97d7"
      },
      "execution_count": 28,
      "outputs": [
        {
          "output_type": "stream",
          "name": "stdout",
          "text": [
            "Original Values:\n",
            "      Name   Age  Salary    Department\n",
            "0    Alice  25.0  50000.0           hr\n",
            "1      Bob  30.0      NaN  engineering\n",
            "2  Charlie  35.0  70000.0  engineering\n",
            "3    David   NaN  60000.0           hr\n",
            "4      Eve  28.0  80000.0           hr\n",
            "5    Frank  40.0  55000.0        sales\n",
            "6    Grace  50.0  85000.0        sales\n",
            "7     Hank  60.0  90000.0        sales\n",
            "8    Alice  25.0  50000.0           hr\n",
            "9      Bob  30.0      NaN  engineering\n",
            "\n",
            "Normalized Values:\n",
            "      Name       Age  Salary    Department\n",
            "0    Alice  0.000000    0.000           hr\n",
            "1      Bob  0.142857      NaN  engineering\n",
            "2  Charlie  0.285714    0.500  engineering\n",
            "3    David       NaN    0.250           hr\n",
            "4      Eve  0.085714    0.750           hr\n",
            "5    Frank  0.428571    0.125        sales\n",
            "6    Grace  0.714286    0.875        sales\n",
            "7     Hank  1.000000    1.000        sales\n",
            "8    Alice  0.000000    0.000           hr\n",
            "9      Bob  0.142857      NaN  engineering\n"
          ]
        }
      ]
    },
    {
      "cell_type": "markdown",
      "source": [
        "Advantages:\n",
        "\n",
        "\n",
        "*   Ensures that features contribute equally to the analysis.\n",
        "*   Helps improve the performance of machine learning algorithms.\n",
        "*   Simplifies the interpretation of coefficients in linear modules.\n",
        "\n",
        "Disadvantages:\n",
        "*   Sensitive to outliers, as the range is determined by the minimum and maximum values.\n",
        "*   Not suitable for data with a non linear distribution, as it can distort the original data distribution.\n",
        "\n",
        "\n",
        "\n"
      ],
      "metadata": {
        "id": "9jVb_s8WWQX8"
      }
    }
  ]
}