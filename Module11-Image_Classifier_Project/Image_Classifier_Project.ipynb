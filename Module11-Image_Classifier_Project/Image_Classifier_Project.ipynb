{
  "cells": [
    {
      "cell_type": "markdown",
      "metadata": {
        "id": "IRy2wIxNGadf"
      },
      "source": [
        "# Image Classification Project using OpenCV and Scikit-learn"
      ]
    },
    {
      "cell_type": "markdown",
      "metadata": {
        "id": "MCRTx1Q5GhAN"
      },
      "source": [
        "In this project, we will build a simple image classifier using basic OpenCV function and scikit-Learn, We will use the Fashion MNIST dataset, which consists of 70,000 images of Zalando's article images. Each image is 28x28 grayscale images associated with a label from 10 classes, such as Tshirts, Tops, Trouser Pullover, Dress, Coat, Sandal, Shirt, Sneaker, Bag, and Ankle Boot. We will preprocess the images, extract basic features using OpenCV, and train a simple classifier using scikit-learn."
      ]
    },
    {
      "cell_type": "markdown",
      "metadata": {
        "id": "utMB0eQlHteG"
      },
      "source": [
        "# Setting Up"
      ]
    },
    {
      "cell_type": "markdown",
      "metadata": {
        "id": "oVuYTdRTHvAT"
      },
      "source": [
        "First, ensure you have the necessary libraraies installed. You can install them using pip."
      ]
    },
    {
      "cell_type": "code",
      "execution_count": null,
      "metadata": {
        "colab": {
          "base_uri": "https://localhost:8080/"
        },
        "id": "fOkzx2oPH4je",
        "outputId": "2ce4d288-38ba-4871-f66b-8b7b193a0159"
      },
      "outputs": [
        {
          "name": "stdout",
          "output_type": "stream",
          "text": [
            "Requirement already satisfied: opencv-python in /usr/local/lib/python3.10/dist-packages (4.8.0.76)\n",
            "Requirement already satisfied: scikit-learn in /usr/local/lib/python3.10/dist-packages (1.2.2)\n",
            "Requirement already satisfied: matplotlib in /usr/local/lib/python3.10/dist-packages (3.7.1)\n",
            "Requirement already satisfied: numpy in /usr/local/lib/python3.10/dist-packages (1.25.2)\n",
            "Requirement already satisfied: scipy>=1.3.2 in /usr/local/lib/python3.10/dist-packages (from scikit-learn) (1.11.4)\n",
            "Requirement already satisfied: joblib>=1.1.1 in /usr/local/lib/python3.10/dist-packages (from scikit-learn) (1.4.2)\n",
            "Requirement already satisfied: threadpoolctl>=2.0.0 in /usr/local/lib/python3.10/dist-packages (from scikit-learn) (3.5.0)\n",
            "Requirement already satisfied: contourpy>=1.0.1 in /usr/local/lib/python3.10/dist-packages (from matplotlib) (1.2.1)\n",
            "Requirement already satisfied: cycler>=0.10 in /usr/local/lib/python3.10/dist-packages (from matplotlib) (0.12.1)\n",
            "Requirement already satisfied: fonttools>=4.22.0 in /usr/local/lib/python3.10/dist-packages (from matplotlib) (4.53.0)\n",
            "Requirement already satisfied: kiwisolver>=1.0.1 in /usr/local/lib/python3.10/dist-packages (from matplotlib) (1.4.5)\n",
            "Requirement already satisfied: packaging>=20.0 in /usr/local/lib/python3.10/dist-packages (from matplotlib) (24.1)\n",
            "Requirement already satisfied: pillow>=6.2.0 in /usr/local/lib/python3.10/dist-packages (from matplotlib) (9.4.0)\n",
            "Requirement already satisfied: pyparsing>=2.3.1 in /usr/local/lib/python3.10/dist-packages (from matplotlib) (3.1.2)\n",
            "Requirement already satisfied: python-dateutil>=2.7 in /usr/local/lib/python3.10/dist-packages (from matplotlib) (2.8.2)\n",
            "Requirement already satisfied: six>=1.5 in /usr/local/lib/python3.10/dist-packages (from python-dateutil>=2.7->matplotlib) (1.16.0)\n"
          ]
        }
      ],
      "source": [
        "pip install opencv-python scikit-learn matplotlib numpy"
      ]
    },
    {
      "cell_type": "markdown",
      "metadata": {
        "id": "9I2jACt-IPNd"
      },
      "source": [
        "# 2. Loading the Dataset"
      ]
    },
    {
      "cell_type": "markdown",
      "metadata": {
        "id": "4smBjkOmITY1"
      },
      "source": [
        "We will use the Fashion MNIST dataset, which is readily available in TensorFlow and can be easily loaded. The dataset contains 60,000 training images and 10,000 test images. Each image is 28x28 grayscale images associated with a label from 10 classes."
      ]
    },
    {
      "cell_type": "code",
      "execution_count": 12,
      "metadata": {
        "colab": {
          "base_uri": "https://localhost:8080/"
        },
        "id": "6cc3jvJzIqKY",
        "outputId": "aeb3c0fa-101b-4585-ea42-ea402d02ca9b"
      },
      "outputs": [
        {
          "output_type": "stream",
          "name": "stdout",
          "text": [
            "Downloading data from https://storage.googleapis.com/tensorflow/tf-keras-datasets/train-labels-idx1-ubyte.gz\n",
            "29515/29515 [==============================] - 0s 0us/step\n",
            "Downloading data from https://storage.googleapis.com/tensorflow/tf-keras-datasets/train-images-idx3-ubyte.gz\n",
            "26421880/26421880 [==============================] - 0s 0us/step\n",
            "Downloading data from https://storage.googleapis.com/tensorflow/tf-keras-datasets/t10k-labels-idx1-ubyte.gz\n",
            "5148/5148 [==============================] - 0s 0us/step\n",
            "Downloading data from https://storage.googleapis.com/tensorflow/tf-keras-datasets/t10k-images-idx3-ubyte.gz\n",
            "4422102/4422102 [==============================] - 0s 0us/step\n",
            "Training data shape: (60000, 28, 28)\n",
            "Training labels shape: (60000,)\n",
            "Testing data shape: (10000,)\n",
            "Testing labels shape: (10000,)\n"
          ]
        }
      ],
      "source": [
        "from tensorflow.keras.datasets import fashion_mnist\n",
        "import numpy as np\n",
        "\n",
        "# Load the Fashion-MNIST dataset\n",
        "(X_train,y_train), (X_test, y_test) = fashion_mnist.load_data()\n",
        "\n",
        "# Display the shape of data and labels\n",
        "print(f\"Training data shape: {X_train.shape}\")\n",
        "print(f\"Training labels shape: {y_train.shape}\")\n",
        "print(f\"Testing data shape: {y_test.shape}\")\n",
        "print(f\"Testing labels shape: {y_test.shape}\")\n",
        "\n"
      ]
    },
    {
      "cell_type": "markdown",
      "metadata": {
        "id": "gxsJ5ylSJsYM"
      },
      "source": [
        "# 3.Visualizing the Initial Dataset"
      ]
    },
    {
      "cell_type": "markdown",
      "metadata": {
        "id": "jo8GQoxsJvoQ"
      },
      "source": [
        "Let's visualize some of the initial images from the dataset to understand what they look like. We will plot the first 10 images from the training set along with their corresponding labels."
      ]
    },
    {
      "cell_type": "code",
      "execution_count": 14,
      "metadata": {
        "colab": {
          "base_uri": "https://localhost:8080/",
          "height": 173
        },
        "id": "50CcmAqJJ_fN",
        "outputId": "75433a1e-1ab1-44bd-b730-bc06745d0ec4"
      },
      "outputs": [
        {
          "output_type": "display_data",
          "data": {
            "text/plain": [
              "<Figure size 2000x300 with 10 Axes>"
            ],
            "image/png": "[encoded data removed]"
          },
          "metadata": {}
        }
      ],
      "source": [
        "import matplotlib.pyplot as plt\n",
        "\n",
        "# Function to plot images\n",
        "def plot_initial_images(images, labels, class_names):\n",
        "  fig, axes = plt.subplots(1, 10, figsize=(20,3))\n",
        "  for i in range(10):\n",
        "    ax = axes[i]\n",
        "    ax.imshow(images[i], cmap='gray')\n",
        "    ax.set_title(class_names[labels[i]])\n",
        "    ax.axis('off')\n",
        "  plt.show()\n",
        "\n",
        "# Class names\n",
        "class_names = ['T-shirt/Top', 'Trouser', 'Dress', 'Pullover', 'Coat', 'Sandal', 'Shirt', 'Sneaker', 'Bag', 'Ankle boot']\n",
        "\n",
        "# Plot some initial images with their labels\n",
        "plot_initial_images(X_train, y_train, class_names)"
      ]
    },
    {
      "cell_type": "markdown",
      "metadata": {
        "id": "FknOZ_A4LK7h"
      },
      "source": [
        "# 4.Preprocessing the Data"
      ]
    },
    {
      "cell_type": "markdown",
      "metadata": {
        "id": "YehbOuVmLObQ"
      },
      "source": [
        "We will preprocess the image s by normalizing the pixel values. Normalization is an important step as it scales the pic=xel value to a range of 0 to 1, which helps in speeding up the training process and improving the model's performance. We will also the reshape the images to add a channel dimension required by OpenCV's HOG function."
      ]
    },
    {
      "cell_type": "code",
      "execution_count": 4,
      "metadata": {
        "colab": {
          "base_uri": "https://localhost:8080/"
        },
        "id": "T6eivXRbLvbW",
        "outputId": "c716681f-103a-43de-d343-d6b78b4c75a9"
      },
      "outputs": [
        {
          "output_type": "stream",
          "name": "stdout",
          "text": [
            "Processed training data shape: (60000, 28, 28, 1)\n",
            "Processed testing data shape: (10000, 28, 28, 1)\n"
          ]
        }
      ],
      "source": [
        "# Normalize the pixel values\n",
        "X_train = X_train/ 255.0\n",
        "X_test = X_test/ 255.0\n",
        "\n",
        "# Reshape the images to add a channel dimension\n",
        "X_train = X_train.reshape(X_train.shape[0], 28, 28, 1)\n",
        "X_test = X_test.reshape(X_test.shape[0], 28, 28, 1)\n",
        "\n",
        "# Dislay the shape of the processed images\n",
        "print(f\"Processed training data shape: {X_train.shape}\")\n",
        "print(f\"Processed testing data shape: {X_test.shape}\")"
      ]
    },
    {
      "cell_type": "markdown",
      "metadata": {
        "id": "uhTbMMLUMhMM"
      },
      "source": [
        "# 5. Extracting Features"
      ]
    },
    {
      "cell_type": "markdown",
      "metadata": {
        "id": "_GA0H8cjMvoA"
      },
      "source": [
        "We will extract features from the images using the Histogram of Oriented Gradients (HOG) descriptor from the OpenCV. HOG is a feature descrptor that captures the gradient structure of edge directions of the image. These features are used as input to the classifier."
      ]
    },
    {
      "cell_type": "code",
      "execution_count": 8,
      "metadata": {
        "colab": {
          "base_uri": "https://localhost:8080/"
        },
        "id": "qt8X4gLGNR6m",
        "outputId": "7ea0bfd9-a137-4b02-e388-e09ab385726a"
      },
      "outputs": [
        {
          "output_type": "stream",
          "name": "stderr",
          "text": [
            "<ipython-input-8-b731f9a6f9d2>:11: FutureWarning: `multichannel` is a deprecated argument name for `hog`. It will be removed in version 1.0. Please use `channel_axis` instead.\n",
            "  features = hog(image, pixels_per_cell=(4, 4), cells_per_block=(2, 2), visualize=False, multichannel=True)\n"
          ]
        },
        {
          "output_type": "stream",
          "name": "stdout",
          "text": [
            "HOG features training data shape: (1000, 8100)\n",
            "HOG features testing data shape: (200, 8100)\n"
          ]
        }
      ],
      "source": [
        "import cv2\n",
        "from skimage.feature import hog\n",
        "import numpy as np\n",
        "from sklearn.svm import SVC\n",
        "from sklearn.decomposition import PCA\n",
        "\n",
        "def extract_hog_features(images):\n",
        "    hog_features = []\n",
        "    for image in images:\n",
        "        # Extract HOG Features for colored images\n",
        "        features = hog(image, pixels_per_cell=(4, 4), cells_per_block=(2, 2), visualize=False, multichannel=True)\n",
        "        hog_features.append(features)\n",
        "    return np.array(hog_features)\n",
        "\n",
        "# Example dummy data (replace with actual images and labels)\n",
        "X_train = np.random.rand(1000, 64, 64, 3)  # 1000 training images of 64x64x3\n",
        "X_test = np.random.rand(200, 64, 64, 3)    # 200 testing images of 64x64x3\n",
        "y_train = np.random.randint(0, 2, 1000)    # 1000 labels for training images (binary classification in this example)\n",
        "y_test = np.random.randint(0, 2, 200)      # 200 labels for testing images (binary classification)\n",
        "\n",
        "# Extract HOG features from the training and testing images\n",
        "X_train_hog = extract_hog_features(X_train)\n",
        "X_test_hog = extract_hog_features(X_test)\n",
        "\n",
        "# Display the shape of the HOG features\n",
        "print(f\"HOG features training data shape: {X_train_hog.shape}\")\n",
        "print(f\"HOG features testing data shape: {X_test_hog.shape}\")\n",
        "\n"
      ]
    },
    {
      "cell_type": "markdown",
      "metadata": {
        "id": "n5YXa17XPE9j"
      },
      "source": [
        "# 6. Training the Classifier"
      ]
    },
    {
      "cell_type": "markdown",
      "metadata": {
        "id": "kXA9HKyfPH3g"
      },
      "source": [
        "We will use a Support Vector Machine(SVM) classifier to train our model. SVM is a powerful and versatile classifier that works well on small to medium-sized datasets. We will use a linear kernel for the SVM."
      ]
    },
    {
      "cell_type": "code",
      "source": [
        "from sklearn.svm import SVC\n",
        "\n",
        "# Create an SVM classifier\n",
        "svm = SVC(kernel='linear')\n",
        "\n",
        "# Train the classifier\n",
        "svm.fit(X_train_hog, y_train)\n",
        "\n",
        "# Display the training accuracy\n",
        "train_accuracy = svm.score(X_train_hog, y_train)\n",
        "print(f\"Training accuracy: {train_accuracy * 100:.2f}%\")"
      ],
      "metadata": {
        "id": "XjrMcdxI99mb",
        "outputId": "246a793e-f170-47db-8cab-5243a328802f",
        "colab": {
          "base_uri": "https://localhost:8080/"
        }
      },
      "execution_count": 7,
      "outputs": [
        {
          "output_type": "stream",
          "name": "stdout",
          "text": [
            "Training accuracy: 100.00%\n"
          ]
        }
      ]
    },
    {
      "cell_type": "markdown",
      "metadata": {
        "id": "8-BFBFCBUOcr"
      },
      "source": [
        "# 7.Evaluating the Model"
      ]
    },
    {
      "cell_type": "markdown",
      "metadata": {
        "id": "B2askMqjUSrH"
      },
      "source": [
        "We will evaluate the model on the testing set to understand how well it generalizes to new, unseen data, the evaluation metrics will help us determine the accuracy and effectiveness of the classifier."
      ]
    },
    {
      "cell_type": "code",
      "execution_count": 9,
      "metadata": {
        "colab": {
          "base_uri": "https://localhost:8080/"
        },
        "id": "JgU4vHGdVERS",
        "outputId": "86bcbb8c-01a1-4107-98a7-464972f99570"
      },
      "outputs": [
        {
          "output_type": "stream",
          "name": "stdout",
          "text": [
            "Testing accuracy: 46.00%\n"
          ]
        }
      ],
      "source": [
        "# Evaluate the model on the testing set\n",
        "test_accuracy = svm.score(X_test_hog, y_test)\n",
        "print(f\"Testing accuracy: {test_accuracy * 100:.2f}%\")"
      ]
    },
    {
      "cell_type": "markdown",
      "metadata": {
        "id": "aTdzaPEVcMbp"
      },
      "source": [
        "# 8. Visulaising the output Predictions"
      ]
    },
    {
      "cell_type": "markdown",
      "metadata": {
        "id": "ExOMmSx4cS9a"
      },
      "source": [
        "Let's visualize some of the output predictions to understand the performance of our model. we will plot the first 10 images from the test set along with their true and predicted labels."
      ]
    },
    {
      "cell_type": "code",
      "execution_count": 15,
      "metadata": {
        "id": "asVqBYP2cr3v",
        "colab": {
          "base_uri": "https://localhost:8080/",
          "height": 187
        },
        "outputId": "15f28fae-713d-481f-8a6e-0830d9498e79"
      },
      "outputs": [
        {
          "output_type": "display_data",
          "data": {
            "text/plain": [
              "<Figure size 2000x300 with 10 Axes>"
            ],
            "image/png": "[encoded data removed]"
          },
          "metadata": {}
        }
      ],
      "source": [
        "# get predictions on test set\n",
        "y_pred = svm.predict(X_test_hog)\n",
        "\n",
        "# function to plot images with true and predicted labels\n",
        "def plot_output_images(images, true_labels, predicted_labels, class_names):\n",
        "  fig, axes = plt.subplots(1, 10, figsize = (20,3))\n",
        "  for i in range (10):\n",
        "    ax = axes[i]\n",
        "    ax.imshow(images[i].reshape(28,28), cmap='gray')\n",
        "    ax.set_title(f'True: {class_names[true_labels[i]]}\\nPred: {class_names[predicted_labels[i]]}', fontsize=10)\n",
        "    ax.axis('off')\n",
        "  plt.tight_layout()\n",
        "  plt.show()\n",
        "\n",
        "# Plot some test images along with their true and predicted labels\n",
        "plot_output_images(X_test[:10], y_test[:10], y_pred[:10], class_names)\n"
      ]
    },
    {
      "cell_type": "markdown",
      "metadata": {
        "id": "_7M-H_asesNp"
      },
      "source": [
        "# Conclusion"
      ]
    },
    {
      "cell_type": "markdown",
      "metadata": {
        "id": "Uyo_jKQVevrx"
      },
      "source": [
        "In this project , we built a simple image classifier using openCV function and scikit-learn. We used the Fasion MNIST daatset of zalando's article images, preprovcessed the images, extracted feature susing HOG, trained an SVM classifier, and evaluated its performance. This project demonstrates the essential steps in building and training image classifier using traditional machine learning techniques."
      ]
    }
  ],
  "metadata": {
    "colab": {
      "provenance": [],
      "gpuType": "T4"
    },
    "kernelspec": {
      "display_name": "Python 3",
      "name": "python3"
    },
    "language_info": {
      "name": "python"
    },
    "accelerator": "GPU"
  },
  "nbformat": 4,
  "nbformat_minor": 0
}