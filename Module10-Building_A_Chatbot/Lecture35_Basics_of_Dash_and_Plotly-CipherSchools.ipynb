{
  "nbformat": 4,
  "nbformat_minor": 0,
  "metadata": {
    "colab": {
      "provenance": []
    },
    "kernelspec": {
      "name": "python3",
      "display_name": "Python 3"
    },
    "language_info": {
      "name": "python"
    }
  },
  "cells": [
    {
      "cell_type": "markdown",
      "source": [
        "# Basics of Dash and Plotly"
      ],
      "metadata": {
        "id": "AmTX_w75ygqB"
      }
    },
    {
      "cell_type": "markdown",
      "source": [
        "To start using Dash, you need to import the Dash module and create an instance of the Dash class. This instance will be your app."
      ],
      "metadata": {
        "id": "BpsyccE6yjss"
      }
    },
    {
      "cell_type": "code",
      "source": [
        "!pip install dash"
      ],
      "metadata": {
        "colab": {
          "base_uri": "https://localhost:8080/"
        },
        "id": "66TV2kjr0K02",
        "outputId": "c305a1c2-e536-4b7e-9e70-1b8a1bf68e3f"
      },
      "execution_count": 3,
      "outputs": [
        {
          "output_type": "stream",
          "name": "stdout",
          "text": [
            "Collecting dash\n",
            "  Downloading dash-2.17.1-py3-none-any.whl (7.5 MB)\n",
            "\u001b[2K     \u001b[90m━━━━━━━━━━━━━━━━━━━━━━━━━━━━━━━━━━━━━━━━\u001b[0m \u001b[32m7.5/7.5 MB\u001b[0m \u001b[31m39.3 MB/s\u001b[0m eta \u001b[36m0:00:00\u001b[0m\n",
            "\u001b[?25hRequirement already satisfied: Flask<3.1,>=1.0.4 in /usr/local/lib/python3.10/dist-packages (from dash) (2.2.5)\n",
            "Requirement already satisfied: Werkzeug<3.1 in /usr/local/lib/python3.10/dist-packages (from dash) (3.0.3)\n",
            "Requirement already satisfied: plotly>=5.0.0 in /usr/local/lib/python3.10/dist-packages (from dash) (5.15.0)\n",
            "Collecting dash-html-components==2.0.0 (from dash)\n",
            "  Downloading dash_html_components-2.0.0-py3-none-any.whl (4.1 kB)\n",
            "Collecting dash-core-components==2.0.0 (from dash)\n",
            "  Downloading dash_core_components-2.0.0-py3-none-any.whl (3.8 kB)\n",
            "Collecting dash-table==5.0.0 (from dash)\n",
            "  Downloading dash_table-5.0.0-py3-none-any.whl (3.9 kB)\n",
            "Requirement already satisfied: importlib-metadata in /usr/local/lib/python3.10/dist-packages (from dash) (7.2.0)\n",
            "Requirement already satisfied: typing-extensions>=4.1.1 in /usr/local/lib/python3.10/dist-packages (from dash) (4.12.2)\n",
            "Requirement already satisfied: requests in /usr/local/lib/python3.10/dist-packages (from dash) (2.31.0)\n",
            "Collecting retrying (from dash)\n",
            "  Downloading retrying-1.3.4-py3-none-any.whl (11 kB)\n",
            "Requirement already satisfied: nest-asyncio in /usr/local/lib/python3.10/dist-packages (from dash) (1.6.0)\n",
            "Requirement already satisfied: setuptools in /usr/local/lib/python3.10/dist-packages (from dash) (67.7.2)\n",
            "Requirement already satisfied: Jinja2>=3.0 in /usr/local/lib/python3.10/dist-packages (from Flask<3.1,>=1.0.4->dash) (3.1.4)\n",
            "Requirement already satisfied: itsdangerous>=2.0 in /usr/local/lib/python3.10/dist-packages (from Flask<3.1,>=1.0.4->dash) (2.2.0)\n",
            "Requirement already satisfied: click>=8.0 in /usr/local/lib/python3.10/dist-packages (from Flask<3.1,>=1.0.4->dash) (8.1.7)\n",
            "Requirement already satisfied: tenacity>=6.2.0 in /usr/local/lib/python3.10/dist-packages (from plotly>=5.0.0->dash) (8.4.1)\n",
            "Requirement already satisfied: packaging in /usr/local/lib/python3.10/dist-packages (from plotly>=5.0.0->dash) (24.1)\n",
            "Requirement already satisfied: MarkupSafe>=2.1.1 in /usr/local/lib/python3.10/dist-packages (from Werkzeug<3.1->dash) (2.1.5)\n",
            "Requirement already satisfied: zipp>=0.5 in /usr/local/lib/python3.10/dist-packages (from importlib-metadata->dash) (3.19.2)\n",
            "Requirement already satisfied: charset-normalizer<4,>=2 in /usr/local/lib/python3.10/dist-packages (from requests->dash) (3.3.2)\n",
            "Requirement already satisfied: idna<4,>=2.5 in /usr/local/lib/python3.10/dist-packages (from requests->dash) (3.7)\n",
            "Requirement already satisfied: urllib3<3,>=1.21.1 in /usr/local/lib/python3.10/dist-packages (from requests->dash) (2.0.7)\n",
            "Requirement already satisfied: certifi>=2017.4.17 in /usr/local/lib/python3.10/dist-packages (from requests->dash) (2024.6.2)\n",
            "Requirement already satisfied: six>=1.7.0 in /usr/local/lib/python3.10/dist-packages (from retrying->dash) (1.16.0)\n",
            "Installing collected packages: dash-table, dash-html-components, dash-core-components, retrying, dash\n",
            "Successfully installed dash-2.17.1 dash-core-components-2.0.0 dash-html-components-2.0.0 dash-table-5.0.0 retrying-1.3.4\n"
          ]
        }
      ]
    },
    {
      "cell_type": "code",
      "source": [
        "import dash\n",
        "\n",
        "# Initialize the Dash app\n",
        "app = dash.Dash(__name__)"
      ],
      "metadata": {
        "id": "j_dxmPIFzS-V"
      },
      "execution_count": 4,
      "outputs": []
    },
    {
      "cell_type": "markdown",
      "source": [
        "# Defining the Layout"
      ],
      "metadata": {
        "id": "4Vubw20izKtn"
      }
    },
    {
      "cell_type": "markdown",
      "source": [
        "The layout of a Dash app is defined using Dash's HTML and core components. The layout describes what the app looks like."
      ],
      "metadata": {
        "id": "-rkXTRT6zWhE"
      }
    },
    {
      "cell_type": "code",
      "source": [
        "from dash import dcc, html\n",
        "\n",
        "# Define the layout\n",
        "app.layout = html.Div([\n",
        "    html.H1(\"My Dash App\", style = {'textAlign' : 'Center'}),\n",
        "    dcc.Input(id='input-box', type='text', value='Type something...'),\n",
        "    html.Button('Submit', id='button'),\n",
        "    html.Div(id='output-div')\n",
        "])"
      ],
      "metadata": {
        "id": "li0TIaa5zkC4"
      },
      "execution_count": 6,
      "outputs": []
    },
    {
      "cell_type": "markdown",
      "source": [
        "# Callback to Update the output"
      ],
      "metadata": {
        "id": "SiDjO9MK7qk-"
      }
    },
    {
      "cell_type": "markdown",
      "source": [
        "Callbacks in Dash are used to update the apps' layout interactively. A callback is a function that gets automatically called by Dash when input components' values changes."
      ],
      "metadata": {
        "id": "J0Lqiglv7tea"
      }
    },
    {
      "cell_type": "code",
      "source": [
        "from dash.dependencies import Input, Output\n",
        "\n",
        "# Define callback to update the output\n",
        "@app.callback(\n",
        "    Output('output-div','children'),\n",
        "    Input('button','n_clicks'),\n",
        "    [dash.dependencies.State('input-box', 'value')]\n",
        ")\n",
        "def update_output(n_clicks, value):\n",
        "  if n_clicks is not None:\n",
        "    return f'You have enetered: {value}'\n",
        "    return ''"
      ],
      "metadata": {
        "id": "FSX2KR2I8Rpv"
      },
      "execution_count": null,
      "outputs": []
    },
    {
      "cell_type": "markdown",
      "source": [
        "# Running the app"
      ],
      "metadata": {
        "id": "t9bxmiYy8_x9"
      }
    },
    {
      "cell_type": "markdown",
      "source": [
        "To run the app, you need to call the `run_server` method on the app instance. This will start a web server that serves the app."
      ],
      "metadata": {
        "id": "bEqS1a7Q9CBS"
      }
    },
    {
      "cell_type": "code",
      "source": [
        "if __name__ == '__main__':\n",
        "  app.run_server(debug=True)"
      ],
      "metadata": {
        "colab": {
          "base_uri": "https://localhost:8080/",
          "height": 672
        },
        "id": "pveMHYT29jU2",
        "outputId": "0c1e7c28-402b-43ef-afcc-6a46b764875e"
      },
      "execution_count": 7,
      "outputs": [
        {
          "output_type": "display_data",
          "data": {
            "text/plain": [
              "<IPython.core.display.Javascript object>"
            ],
            "application/javascript": [
              "(async (port, path, width, height, cache, element) => {\n",
              "    if (!google.colab.kernel.accessAllowed && !cache) {\n",
              "      return;\n",
              "    }\n",
              "    element.appendChild(document.createTextNode(''));\n",
              "    const url = await google.colab.kernel.proxyPort(port, {cache});\n",
              "    const iframe = document.createElement('iframe');\n",
              "    iframe.src = new URL(path, url).toString();\n",
              "    iframe.height = height;\n",
              "    iframe.width = width;\n",
              "    iframe.style.border = 0;\n",
              "    iframe.allow = [\n",
              "        'accelerometer',\n",
              "        'autoplay',\n",
              "        'camera',\n",
              "        'clipboard-read',\n",
              "        'clipboard-write',\n",
              "        'gyroscope',\n",
              "        'magnetometer',\n",
              "        'microphone',\n",
              "        'serial',\n",
              "        'usb',\n",
              "        'xr-spatial-tracking',\n",
              "    ].join('; ');\n",
              "    element.appendChild(iframe);\n",
              "  })(8050, \"/\", \"100%\", 650, false, window.element)"
            ]
          },
          "metadata": {}
        }
      ]
    },
    {
      "cell_type": "markdown",
      "source": [
        "# Example: Adding a Text Area"
      ],
      "metadata": {
        "id": "5qmRm9gi9qp7"
      }
    },
    {
      "cell_type": "markdown",
      "source": [
        "You can add a text area to your Dash app using the `dcc.Textarea` component. This component allows the user to input multiline text."
      ],
      "metadata": {
        "id": "OtO79rSo9yGj"
      }
    },
    {
      "cell_type": "code",
      "source": [
        "app.layout = html.Div([\n",
        "    html.H1(\"Chatbot\", style = {'textAlign' : 'Center'}),\n",
        "    dcc.Textarea(\n",
        "        id = 'user-input',\n",
        "        value = 'Type your question here....',\n",
        "        style = {'width' : '100%', 'height': 100}\n",
        "    ),\n",
        "    html.Button('Submit', id='submit-button', n_clicks=0),\n",
        "    html.Div(id='chatbot-output', style = {'padding' : '10px'})\n",
        "])"
      ],
      "metadata": {
        "id": "sPZxP7Oo-J2s"
      },
      "execution_count": 9,
      "outputs": []
    },
    {
      "cell_type": "markdown",
      "source": [
        "# Example: Creating a Chatbot Response"
      ],
      "metadata": {
        "id": "BBZoq8Jl-6f1"
      }
    },
    {
      "cell_type": "markdown",
      "source": [
        "We can create a simple chatbot response by defining a callback function that takes user input and generates a response."
      ],
      "metadata": {
        "id": "7wmn7eSQ_FQ2"
      }
    },
    {
      "source": [
        "# Define callback to update chatbot response.\n",
        "from dash.dependencies import Input, Output, State  # Import Output\n",
        "\n",
        "@app.callback(\n",
        "    Output('chatbot-output', 'children'),\n",
        "    Input('submit-button', 'n_clicks'),\n",
        "    [State('user-input', 'value')]\n",
        ")\n",
        "\n",
        "def update_output(n_clicks,user_input):\n",
        "  if n_clicks > 0:\n",
        "    return html.Div([\n",
        "        html.P(f\"You: {user_input}\", style={'margin': '10px'}),\n",
        "        html.P(f\"Bot: I am training now, ask something else.\", style = {'margin': '10px', 'backgroundColor' : '#f0f0f0'})\n",
        "    ])\n",
        "  return \"Ask me something\""
      ],
      "cell_type": "code",
      "metadata": {
        "id": "pbVf3yu0B7VC"
      },
      "execution_count": 12,
      "outputs": []
    }
  ]
}