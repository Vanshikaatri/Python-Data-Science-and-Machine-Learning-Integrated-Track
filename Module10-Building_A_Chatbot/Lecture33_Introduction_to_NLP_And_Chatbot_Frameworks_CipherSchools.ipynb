{
  "nbformat": 4,
  "nbformat_minor": 0,
  "metadata": {
    "colab": {
      "provenance": []
    },
    "kernelspec": {
      "name": "python3",
      "display_name": "Python 3"
    },
    "language_info": {
      "name": "python"
    }
  },
  "cells": [
    {
      "cell_type": "markdown",
      "source": [
        "# Building a Simple Chatbot using Python"
      ],
      "metadata": {
        "id": "3zu1gNu2XtrP"
      }
    },
    {
      "cell_type": "markdown",
      "source": [
        "1. Introduction to NLP and Chatbot Frameworks"
      ],
      "metadata": {
        "id": "KI8VQLewXzZd"
      }
    },
    {
      "cell_type": "markdown",
      "source": [
        "Definition and importance of NLP:\n",
        "\n",
        "Natural Language Processing (NLP) is a field of artificial intelligence that focuses on the interaction between computers and humans through natural language. The ultimate goal of NLP is to enable computers to understand, interpret and generate human langauges in a way that is both meaningful and useful."
      ],
      "metadata": {
        "id": "ESeWNDRMX34h"
      }
    },
    {
      "cell_type": "markdown",
      "source": [
        "**Applications of NLP:**\n",
        "\n",
        "* Sentiment Analysis\n",
        "* Language Processing\n",
        "* Chatbots and Virtual Assistants\n",
        "* Text Summarization\n",
        "* Speech Recognition"
      ],
      "metadata": {
        "id": "oLKt1ADfYcuW"
      }
    },
    {
      "cell_type": "markdown",
      "source": [
        "# Common NLP tasks"
      ],
      "metadata": {
        "id": "rOwbKNQRZDul"
      }
    },
    {
      "cell_type": "markdown",
      "source": [
        "Tokenization\n",
        "\n",
        "Tokenization is the process of breaking text into individual words or tokens."
      ],
      "metadata": {
        "id": "V-blNUT4ZKrT"
      }
    },
    {
      "cell_type": "markdown",
      "source": [
        "Stemming and Lemmatization\n",
        "\n",
        "Stemming and Lemmatization are processes of reducing words to their root forms."
      ],
      "metadata": {
        "id": "-g5lj01KZUbb"
      }
    },
    {
      "cell_type": "markdown",
      "source": [
        "Stop Words Removal\n",
        "\n",
        "Stop Words are common words that add little meaning to text and are often removed in preprocessing."
      ],
      "metadata": {
        "id": "w39WS1dCZd3m"
      }
    },
    {
      "cell_type": "code",
      "source": [
        "import nltk\n",
        "nltk.download('punkt')\n",
        "from nltk.tokenize import word_tokenize\n",
        "\n",
        "text = \"Natural Language Processing is fascinating\"\n",
        "tokens = word_tokenize(text)\n",
        "print(tokens)"
      ],
      "metadata": {
        "colab": {
          "base_uri": "https://localhost:8080/"
        },
        "id": "rDzPRFHTZn4F",
        "outputId": "eff81da4-2f8e-44bc-b905-37d52faf0750"
      },
      "execution_count": null,
      "outputs": [
        {
          "output_type": "stream",
          "name": "stdout",
          "text": [
            "['Natural', 'Language', 'Processing', 'is', 'fascinating']\n"
          ]
        },
        {
          "output_type": "stream",
          "name": "stderr",
          "text": [
            "[nltk_data] Downloading package punkt to /root/nltk_data...\n",
            "[nltk_data]   Package punkt is already up-to-date!\n"
          ]
        }
      ]
    },
    {
      "cell_type": "code",
      "source": [
        "from nltk.stem import PorterStemmer\n",
        "\n",
        "stemmer = PorterStemmer()\n",
        "words = [\"running\", \"ran\", \"runs\"]\n",
        "stems = [stemmer.stem(word) for word in words]\n",
        "print(stems)"
      ],
      "metadata": {
        "colab": {
          "base_uri": "https://localhost:8080/"
        },
        "id": "gLC0MOnkaQ6Z",
        "outputId": "2460fed2-bd5d-432f-9d4a-a4269a3b181e"
      },
      "execution_count": null,
      "outputs": [
        {
          "output_type": "stream",
          "name": "stdout",
          "text": [
            "['run', 'ran', 'run']\n"
          ]
        }
      ]
    },
    {
      "cell_type": "code",
      "source": [
        "from nltk.stem import WordNetLemmatizer\n",
        "nltk.download('wordnet')\n",
        "\n",
        "lemmatizer = WordNetLemmatizer()\n",
        "words = [\"running\", \"ran\", \"runs\"]\n",
        "lemmas = [lemmatizer.lemmatize(word, pos = 'v') for word in words]\n",
        "print(lemmas)"
      ],
      "metadata": {
        "colab": {
          "base_uri": "https://localhost:8080/"
        },
        "id": "i6NzWb-0ams4",
        "outputId": "9f389490-9a91-4c99-ac85-9df3ba7a5cd0"
      },
      "execution_count": null,
      "outputs": [
        {
          "output_type": "stream",
          "name": "stderr",
          "text": [
            "[nltk_data] Downloading package wordnet to /root/nltk_data...\n"
          ]
        },
        {
          "output_type": "stream",
          "name": "stdout",
          "text": [
            "['run', 'run', 'run']\n"
          ]
        }
      ]
    },
    {
      "cell_type": "code",
      "source": [
        "from nltk.corpus import stopwords\n",
        "nltk.download('stopwords')\n",
        "\n",
        "stop_words = set(stopwords.words('english'))\n",
        "filtered_text = [word for word in tokens if word.lower() not in stop_words]\n",
        "print(filtered_text)"
      ],
      "metadata": {
        "colab": {
          "base_uri": "https://localhost:8080/"
        },
        "id": "xAQucZvvbAvU",
        "outputId": "dd8ae14f-ca51-4112-b36a-57cd04a867dc"
      },
      "execution_count": null,
      "outputs": [
        {
          "output_type": "stream",
          "name": "stdout",
          "text": [
            "['Natural', 'Language', 'Processing', 'fascinating']\n"
          ]
        },
        {
          "output_type": "stream",
          "name": "stderr",
          "text": [
            "[nltk_data] Downloading package stopwords to /root/nltk_data...\n",
            "[nltk_data]   Unzipping corpora/stopwords.zip.\n"
          ]
        }
      ]
    },
    {
      "cell_type": "markdown",
      "source": [
        "# Overview of NLP Libraries"
      ],
      "metadata": {
        "id": "TKjd-674bRz1"
      }
    },
    {
      "cell_type": "markdown",
      "source": [
        "NLTK (Natural Language Toolkit)"
      ],
      "metadata": {
        "id": "mHW5Q1Z4XtKY"
      }
    },
    {
      "cell_type": "markdown",
      "source": [
        "Natural Language Toolkit is a powerful library for various NLP tasks, Including tokenization, stemming, lemmatiziation, and more."
      ],
      "metadata": {
        "id": "53rt_NmMX1mZ"
      }
    },
    {
      "cell_type": "markdown",
      "source": [
        "SpaCy"
      ],
      "metadata": {
        "id": "gK2L95stYDYA"
      }
    },
    {
      "cell_type": "markdown",
      "source": [
        "SpaCy is an open-source software library for advanced NLP tasks, known for its speed and efficiency."
      ],
      "metadata": {
        "id": "M1cUJJRJYE0s"
      }
    },
    {
      "cell_type": "markdown",
      "source": [
        "TextBlob\n"
      ],
      "metadata": {
        "id": "9QJ7qyItYOeT"
      }
    },
    {
      "cell_type": "markdown",
      "source": [
        "TextBlob is a simple library for processing textual data, providing easy-to-use APIs for common NLP tasks"
      ],
      "metadata": {
        "id": "PNd1Dn3EYQir"
      }
    },
    {
      "cell_type": "markdown",
      "source": [
        "Introduction to Chatbot Frameworks"
      ],
      "metadata": {
        "id": "pzLUwEc5YmAA"
      }
    },
    {
      "cell_type": "markdown",
      "source": [
        "ChatterBot"
      ],
      "metadata": {
        "id": "741cqi2lY2TM"
      }
    },
    {
      "cell_type": "markdown",
      "source": [
        "ChatterBot is a python libraary that makes it easy to generate automated responses to users-input."
      ],
      "metadata": {
        "id": "bT8oXuXgZLfZ"
      }
    },
    {
      "cell_type": "markdown",
      "source": [
        "Rasa"
      ],
      "metadata": {
        "id": "2I5dvcKhZS1_"
      }
    },
    {
      "cell_type": "markdown",
      "source": [
        "Rasa is an open source framework for building conversational AI, including chatbots and voice assistants."
      ],
      "metadata": {
        "id": "ZxM-aDtxZTh9"
      }
    }
  ]
}