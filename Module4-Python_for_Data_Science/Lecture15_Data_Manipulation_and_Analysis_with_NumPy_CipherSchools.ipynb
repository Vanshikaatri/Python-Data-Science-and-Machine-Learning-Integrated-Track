{
  "nbformat": 4,
  "nbformat_minor": 0,
  "metadata": {
    "colab": {
      "provenance": [],
      "toc_visible": true
    },
    "kernelspec": {
      "name": "python3",
      "display_name": "Python 3"
    },
    "language_info": {
      "name": "python"
    }
  },
  "cells": [
    {
      "cell_type": "markdown",
      "source": [
        "# Data Manipulation and Analysis with numPy"
      ],
      "metadata": {
        "id": "DzDPKXQGfcpo"
      }
    },
    {
      "cell_type": "markdown",
      "source": [
        "**Definition** - Numpy (Numerical python) is a fundamental package for scientific computing with python. It provides support for arrays, matrices, and large collection of mathemeatical functions to opearte on these data structures. NumPy arrays are more efficient and provide better performance for numerical operations comapred to python's build in lists.\n",
        "\n",
        "**Use Case in Real Life** - Numpy can be used in various scientific computing scenarios, such as statistical analysis, signal processing and image processing"
      ],
      "metadata": {
        "id": "rpO7QiSMfkSZ"
      }
    },
    {
      "cell_type": "markdown",
      "source": [
        "# Creating a NumPy Array from a List"
      ],
      "metadata": {
        "id": "rJtUn67VgNwy"
      }
    },
    {
      "cell_type": "code",
      "source": [
        "pip install numpy"
      ],
      "metadata": {
        "colab": {
          "base_uri": "https://localhost:8080/"
        },
        "id": "PtWuM2eahmNB",
        "outputId": "ca405627-36d4-4098-8319-06739d61fb0a"
      },
      "execution_count": 3,
      "outputs": [
        {
          "output_type": "stream",
          "name": "stdout",
          "text": [
            "Requirement already satisfied: numpy in /usr/local/lib/python3.10/dist-packages (1.25.2)\n"
          ]
        }
      ]
    },
    {
      "cell_type": "code",
      "source": [
        "import numpy as np\n",
        "\n",
        "# Creating a 1D array from a list\n",
        "arr1 = np.array([1,2,3,4,5])\n",
        "\n",
        "# Creating a 2D array from list of lists\n",
        "arr2 = np.array( [[1,2,3], [4,5,6]] )\n",
        "\n",
        "print(arr1)\n",
        "print(arr2)"
      ],
      "metadata": {
        "colab": {
          "base_uri": "https://localhost:8080/"
        },
        "id": "8NIo4kB6gWpl",
        "outputId": "6f91966f-11e8-4ab8-b2aa-4e1a69cad914"
      },
      "execution_count": 2,
      "outputs": [
        {
          "output_type": "stream",
          "name": "stdout",
          "text": [
            "[1 2 3 4 5]\n",
            "[[1 2 3]\n",
            " [4 5 6]]\n"
          ]
        }
      ]
    },
    {
      "cell_type": "markdown",
      "source": [
        "# Creating Arrays with Functions"
      ],
      "metadata": {
        "id": "m8bgaK4thTbY"
      }
    },
    {
      "cell_type": "code",
      "source": [
        "# Creating an array of zeroes\n",
        "zeroes = np.zeros((3,4))\n",
        "print(zeroes)"
      ],
      "metadata": {
        "colab": {
          "base_uri": "https://localhost:8080/"
        },
        "id": "2yx2Glj-h0s1",
        "outputId": "26692966-a815-4de1-da6f-593e60b7cd7a"
      },
      "execution_count": 5,
      "outputs": [
        {
          "output_type": "stream",
          "name": "stdout",
          "text": [
            "[[0. 0. 0. 0.]\n",
            " [0. 0. 0. 0.]\n",
            " [0. 0. 0. 0.]]\n"
          ]
        }
      ]
    },
    {
      "cell_type": "code",
      "source": [
        "# Creating an array of ones\n",
        "ones = np.ones((2,3))\n",
        "print(ones)"
      ],
      "metadata": {
        "colab": {
          "base_uri": "https://localhost:8080/"
        },
        "id": "8dHL9UA2i_XM",
        "outputId": "022c2c7d-6670-4f22-cded-a7b167c68329"
      },
      "execution_count": 6,
      "outputs": [
        {
          "output_type": "stream",
          "name": "stdout",
          "text": [
            "[[1. 1. 1.]\n",
            " [1. 1. 1.]]\n"
          ]
        }
      ]
    },
    {
      "cell_type": "code",
      "source": [
        "# Creating an array with a range of values\n",
        "range_arr = np.arange(10, 20, 2)                     # (start, stop, step)\n",
        "print(range_arr)"
      ],
      "metadata": {
        "colab": {
          "base_uri": "https://localhost:8080/"
        },
        "id": "JeFrFBe1jHq3",
        "outputId": "b08aafaf-aebd-4683-eb07-9f463b344bb5"
      },
      "execution_count": 7,
      "outputs": [
        {
          "output_type": "stream",
          "name": "stdout",
          "text": [
            "[10 12 14 16 18]\n"
          ]
        }
      ]
    },
    {
      "cell_type": "code",
      "source": [
        "# Creating an array with random values\n",
        "random_arr = np.random.rand(3,3)\n",
        "print(random_arr)"
      ],
      "metadata": {
        "colab": {
          "base_uri": "https://localhost:8080/"
        },
        "id": "5hMQx9Y7jUWf",
        "outputId": "56c4f6e1-821b-45de-cc83-53145cbf5f70"
      },
      "execution_count": 8,
      "outputs": [
        {
          "output_type": "stream",
          "name": "stdout",
          "text": [
            "[[0.2205677  0.73082504 0.31293095]\n",
            " [0.2105914  0.5981217  0.86455357]\n",
            " [0.72028576 0.14990526 0.84307753]]\n"
          ]
        }
      ]
    },
    {
      "cell_type": "markdown",
      "source": [
        "# Basic Array operations - Element-Wise operations"
      ],
      "metadata": {
        "id": "xVEzfP1kjeVF"
      }
    },
    {
      "cell_type": "code",
      "source": [
        "arr = np.array([1,2,3,4,5])\n",
        "\n",
        "# element wise addition\n",
        "print(arr + 2)"
      ],
      "metadata": {
        "colab": {
          "base_uri": "https://localhost:8080/"
        },
        "id": "ChL0T-p8jlJc",
        "outputId": "025e655b-f4a9-401c-804f-ecef8fcefe0c"
      },
      "execution_count": 9,
      "outputs": [
        {
          "output_type": "stream",
          "name": "stdout",
          "text": [
            "[3 4 5 6 7]\n"
          ]
        }
      ]
    },
    {
      "cell_type": "code",
      "source": [
        "# Element wise subtraction\n",
        "print(arr - 2)"
      ],
      "metadata": {
        "colab": {
          "base_uri": "https://localhost:8080/"
        },
        "id": "tdxWjsNNkN-V",
        "outputId": "10b32111-6a12-4089-c1ce-4581f99c6d80"
      },
      "execution_count": 10,
      "outputs": [
        {
          "output_type": "stream",
          "name": "stdout",
          "text": [
            "[-1  0  1  2  3]\n"
          ]
        }
      ]
    },
    {
      "cell_type": "code",
      "source": [
        "# Element wise multiplication\n",
        "print(arr * 2)"
      ],
      "metadata": {
        "colab": {
          "base_uri": "https://localhost:8080/"
        },
        "id": "aciG9ioakm7V",
        "outputId": "e9556eb1-aa45-42d0-b3ed-a11e8da6a7f2"
      },
      "execution_count": 11,
      "outputs": [
        {
          "output_type": "stream",
          "name": "stdout",
          "text": [
            "[ 2  4  6  8 10]\n"
          ]
        }
      ]
    },
    {
      "cell_type": "code",
      "source": [
        "# Element wise division\n",
        "print(arr / 2)"
      ],
      "metadata": {
        "colab": {
          "base_uri": "https://localhost:8080/"
        },
        "id": "2tFP6p_Qk43r",
        "outputId": "cf2e9c17-e4ee-4f4a-f793-2815f4ff14b8"
      },
      "execution_count": 12,
      "outputs": [
        {
          "output_type": "stream",
          "name": "stdout",
          "text": [
            "[0.5 1.  1.5 2.  2.5]\n"
          ]
        }
      ]
    },
    {
      "cell_type": "markdown",
      "source": [
        "# Basic Array Operation - Mathematical Functions"
      ],
      "metadata": {
        "id": "xYI8MN9rlSiC"
      }
    },
    {
      "cell_type": "code",
      "source": [
        "arr = np.array([1,2,3,4,5])\n",
        "\n",
        "# Square Root\n",
        "print(np.sqrt(arr))"
      ],
      "metadata": {
        "colab": {
          "base_uri": "https://localhost:8080/"
        },
        "id": "BD2NLQ7JlVd1",
        "outputId": "ccbc4e2f-fc5d-4335-e633-3ed35aa5d761"
      },
      "execution_count": 13,
      "outputs": [
        {
          "output_type": "stream",
          "name": "stdout",
          "text": [
            "[1.         1.41421356 1.73205081 2.         2.23606798]\n"
          ]
        }
      ]
    },
    {
      "cell_type": "code",
      "source": [
        "# Exponential\n",
        "\n",
        "print(np.exp(arr))"
      ],
      "metadata": {
        "colab": {
          "base_uri": "https://localhost:8080/"
        },
        "id": "tpo918r7lem2",
        "outputId": "d701a0e2-a8a4-4376-8a0c-be1ae1aa0a14"
      },
      "execution_count": 14,
      "outputs": [
        {
          "output_type": "stream",
          "name": "stdout",
          "text": [
            "[  2.71828183   7.3890561   20.08553692  54.59815003 148.4131591 ]\n"
          ]
        }
      ]
    },
    {
      "cell_type": "code",
      "source": [
        "# Logarithm\n",
        "print(np.log(arr))"
      ],
      "metadata": {
        "colab": {
          "base_uri": "https://localhost:8080/"
        },
        "id": "hz_8tikHljv0",
        "outputId": "caf44426-3737-4798-92e5-8bf1885465fb"
      },
      "execution_count": 15,
      "outputs": [
        {
          "output_type": "stream",
          "name": "stdout",
          "text": [
            "[0.         0.69314718 1.09861229 1.38629436 1.60943791]\n"
          ]
        }
      ]
    },
    {
      "cell_type": "code",
      "source": [
        "# Sine\n",
        "print(np.sin(arr))"
      ],
      "metadata": {
        "colab": {
          "base_uri": "https://localhost:8080/"
        },
        "id": "eI6v2awalqX-",
        "outputId": "7a98cbf9-358e-4c22-876b-1ac61cd98ec2"
      },
      "execution_count": 16,
      "outputs": [
        {
          "output_type": "stream",
          "name": "stdout",
          "text": [
            "[ 0.84147098  0.90929743  0.14112001 -0.7568025  -0.95892427]\n"
          ]
        }
      ]
    },
    {
      "cell_type": "markdown",
      "source": [
        "# Indexing and Slicing - Slicing"
      ],
      "metadata": {
        "id": "h9ejHZiOlx-f"
      }
    },
    {
      "cell_type": "code",
      "source": [
        "arr = np.array([1,2,3,4,5])\n",
        "\n",
        "# Slicing array\n",
        "print(arr[1:4])     # Elements from index 1 to 3\n",
        "print(arr[:3])      # First three elements\n",
        "print(arr[2:])      # Elements from index 2\n"
      ],
      "metadata": {
        "colab": {
          "base_uri": "https://localhost:8080/"
        },
        "id": "9gzDzo8rl12A",
        "outputId": "714f891c-7fe1-42bc-83d2-550affcb415f"
      },
      "execution_count": 17,
      "outputs": [
        {
          "output_type": "stream",
          "name": "stdout",
          "text": [
            "[2 3 4]\n",
            "[1 2 3]\n",
            "[3 4 5]\n"
          ]
        }
      ]
    },
    {
      "cell_type": "markdown",
      "source": [
        "# Indexing and Slicing - Advanced Indexing"
      ],
      "metadata": {
        "id": "fOyD0CzVmjZS"
      }
    },
    {
      "cell_type": "code",
      "source": [
        "arr = np.array([1, 2, 3, 4, 5])\n",
        "\n",
        "# Boolean indexing\n",
        "print(arr[arr > 3])\n",
        "\n",
        "# Fancy indexing\n",
        "indices = [0,2,4]\n",
        "print(arr[indices])"
      ],
      "metadata": {
        "colab": {
          "base_uri": "https://localhost:8080/"
        },
        "id": "83pr4xc8mpXc",
        "outputId": "8484f543-4251-449f-99b9-ca872aad0e95"
      },
      "execution_count": 18,
      "outputs": [
        {
          "output_type": "stream",
          "name": "stdout",
          "text": [
            "[4 5]\n",
            "[1 3 5]\n"
          ]
        }
      ]
    },
    {
      "cell_type": "markdown",
      "source": [
        "# Reshaping and Transposing - Reshaping Arrays"
      ],
      "metadata": {
        "id": "H-fJUmWnm-74"
      }
    },
    {
      "cell_type": "code",
      "source": [
        "arr = np.array([[1, 2, 3], [4, 5, 6]])\n",
        "\n",
        "# Reshaping the array\n",
        "reshaped = arr.reshape((3,2))\n",
        "print(reshaped)\n"
      ],
      "metadata": {
        "colab": {
          "base_uri": "https://localhost:8080/"
        },
        "id": "f264g5IWnKYP",
        "outputId": "062ed5d9-2dba-488b-ceda-bcc3c6507de7"
      },
      "execution_count": 20,
      "outputs": [
        {
          "output_type": "stream",
          "name": "stdout",
          "text": [
            "[[1 2]\n",
            " [3 4]\n",
            " [5 6]]\n"
          ]
        }
      ]
    },
    {
      "cell_type": "markdown",
      "source": [
        "# Reshaping and Transposing - Transposing Arrays"
      ],
      "metadata": {
        "id": "m9eIpaOJnjMn"
      }
    },
    {
      "cell_type": "code",
      "source": [
        "arr = np.array( [[1,2,3], [4,5,6]] )\n",
        "\n",
        "# Transposing the array\n",
        "transposed = arr.T\n",
        "print(transposed)"
      ],
      "metadata": {
        "colab": {
          "base_uri": "https://localhost:8080/"
        },
        "id": "wPwrayQfniWE",
        "outputId": "0b06113f-2f9f-4a3e-e3db-f7e26925cda2"
      },
      "execution_count": 21,
      "outputs": [
        {
          "output_type": "stream",
          "name": "stdout",
          "text": [
            "[[1 4]\n",
            " [2 5]\n",
            " [3 6]]\n"
          ]
        }
      ]
    },
    {
      "cell_type": "markdown",
      "source": [
        "# Aggregation Functions - Sum and Mean"
      ],
      "metadata": {
        "id": "g6ep1royn9aa"
      }
    },
    {
      "cell_type": "code",
      "source": [
        "arr = np.array( [[1,2,3], [4,5,6]] )\n",
        "\n",
        "# Sum of all elements\n",
        "print(np.sum(arr))"
      ],
      "metadata": {
        "colab": {
          "base_uri": "https://localhost:8080/"
        },
        "id": "lL4Q-GS7n8MT",
        "outputId": "55cb41a9-51a8-4b15-d690-88d1987b2d34"
      },
      "execution_count": 22,
      "outputs": [
        {
          "output_type": "stream",
          "name": "stdout",
          "text": [
            "21\n"
          ]
        }
      ]
    },
    {
      "cell_type": "code",
      "source": [
        "# Sum along columns\n",
        "print(np.sum(arr, axis=0))"
      ],
      "metadata": {
        "colab": {
          "base_uri": "https://localhost:8080/"
        },
        "id": "ObzD7y6uoXwF",
        "outputId": "a6778d4c-21f3-4f4f-97d5-dfb9a0ac9b1d"
      },
      "execution_count": 23,
      "outputs": [
        {
          "output_type": "stream",
          "name": "stdout",
          "text": [
            "[5 7 9]\n"
          ]
        }
      ]
    },
    {
      "cell_type": "code",
      "source": [
        "# Sum along rows\n",
        "print(np.sum(arr, axis=1))"
      ],
      "metadata": {
        "colab": {
          "base_uri": "https://localhost:8080/"
        },
        "id": "jNAvagFNoiNs",
        "outputId": "0103a189-883a-4544-fb34-4d68a315f7f5"
      },
      "execution_count": 24,
      "outputs": [
        {
          "output_type": "stream",
          "name": "stdout",
          "text": [
            "[ 6 15]\n"
          ]
        }
      ]
    },
    {
      "cell_type": "code",
      "source": [
        "# sum of all elements\n",
        "print(np.mean(arr))"
      ],
      "metadata": {
        "colab": {
          "base_uri": "https://localhost:8080/"
        },
        "id": "x_bR-8NEosKD",
        "outputId": "ef251aa3-565e-41e8-81a0-a360431ab859"
      },
      "execution_count": 25,
      "outputs": [
        {
          "output_type": "stream",
          "name": "stdout",
          "text": [
            "3.5\n"
          ]
        }
      ]
    },
    {
      "cell_type": "markdown",
      "source": [
        "# Aggregation Functions - Min and Max"
      ],
      "metadata": {
        "id": "DCNLDiNWpE-X"
      }
    },
    {
      "cell_type": "code",
      "source": [
        "arr = np.array([[1,2,3], [4,5,6]])\n",
        "\n",
        "# Minimum value\n",
        "print(np.min(arr))"
      ],
      "metadata": {
        "colab": {
          "base_uri": "https://localhost:8080/"
        },
        "id": "JHjPp0vopN6F",
        "outputId": "7e2abee3-91c1-42ce-9266-179bc2c38d0b"
      },
      "execution_count": 26,
      "outputs": [
        {
          "output_type": "stream",
          "name": "stdout",
          "text": [
            "1\n"
          ]
        }
      ]
    },
    {
      "cell_type": "code",
      "source": [
        "# Maximum value\n",
        "print(np.max(arr))"
      ],
      "metadata": {
        "colab": {
          "base_uri": "https://localhost:8080/"
        },
        "id": "4SKRpNeBpZoQ",
        "outputId": "1302aa36-e7bb-4df2-fc53-6efd13a969d6"
      },
      "execution_count": 27,
      "outputs": [
        {
          "output_type": "stream",
          "name": "stdout",
          "text": [
            "6\n"
          ]
        }
      ]
    },
    {
      "cell_type": "code",
      "source": [
        "# Index of minimum value\n",
        "print(np.argmin(arr))"
      ],
      "metadata": {
        "colab": {
          "base_uri": "https://localhost:8080/"
        },
        "id": "qZoW1dhBpVRn",
        "outputId": "1924ee40-d4fc-4503-9ef3-924feed7ea59"
      },
      "execution_count": 28,
      "outputs": [
        {
          "output_type": "stream",
          "name": "stdout",
          "text": [
            "0\n"
          ]
        }
      ]
    },
    {
      "cell_type": "code",
      "source": [
        "# Index of maximum value\n",
        "print(np.argmax(arr))"
      ],
      "metadata": {
        "colab": {
          "base_uri": "https://localhost:8080/"
        },
        "id": "SuajHAYGpnWy",
        "outputId": "8e9ad11a-6bc7-479e-fbc9-9f43100ec1a1"
      },
      "execution_count": 29,
      "outputs": [
        {
          "output_type": "stream",
          "name": "stdout",
          "text": [
            "5\n"
          ]
        }
      ]
    }
  ]
}