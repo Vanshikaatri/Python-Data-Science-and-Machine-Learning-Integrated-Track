{
  "nbformat": 4,
  "nbformat_minor": 0,
  "metadata": {
    "colab": {
      "provenance": [],
      "toc_visible": true
    },
    "kernelspec": {
      "name": "python3",
      "display_name": "Python 3"
    },
    "language_info": {
      "name": "python"
    }
  },
  "cells": [
    {
      "cell_type": "code",
      "execution_count": null,
      "metadata": {
        "id": "IWK_B1METo8-"
      },
      "outputs": [],
      "source": []
    },
    {
      "cell_type": "markdown",
      "source": [
        "**Python**"
      ],
      "metadata": {
        "id": "REsd31U-TzKo"
      }
    },
    {
      "cell_type": "markdown",
      "source": [
        "\n",
        "\n"
      ],
      "metadata": {
        "id": "MIAATKR0T00I"
      }
    },
    {
      "cell_type": "markdown",
      "source": [
        "# Variables\n"
      ],
      "metadata": {
        "id": "V3DmbFg6UCgn"
      }
    },
    {
      "cell_type": "markdown",
      "source": [
        "**Definition** - Variables in Python are used to store data that can be referenced and manipulated throughout the program. They act as placeholders for values.\n",
        "\n",
        "**Use Case in Real Life** - Variables can be used to store user information in registration form. for example - name, age and height could store the respective details of a user."
      ],
      "metadata": {
        "id": "Sw8vZc-xUJvd"
      }
    },
    {
      "cell_type": "code",
      "source": [
        "# Assigning values to variables\n",
        "name = \"John Doe\"\n",
        "age = 30\n",
        "height = 5.9"
      ],
      "metadata": {
        "id": "MnhSstlOUtbL"
      },
      "execution_count": null,
      "outputs": []
    },
    {
      "cell_type": "markdown",
      "source": [
        "# Data Types"
      ],
      "metadata": {
        "id": "z362IL5YVMTB"
      }
    },
    {
      "cell_type": "markdown",
      "source": [
        "**Definition** - Data Types specify the type of data that a variable can hold. Common data types in python include integers, floats, strings, lists, tuples, dictionaries and booleans.\n",
        "\n",
        "**Use Case in Real Life** - Data types are used to model different kinds of information. For example, a dictionary can store user profiles in a social media application where keys are profile attributes and values are the corresponding data"
      ],
      "metadata": {
        "id": "oDm1ebLOVQRd"
      }
    },
    {
      "cell_type": "code",
      "source": [
        "# Integer\n",
        "num = 10"
      ],
      "metadata": {
        "id": "z99UAePDV-q5"
      },
      "execution_count": null,
      "outputs": []
    },
    {
      "cell_type": "code",
      "source": [
        "# Inbuilt function and operations for integer\n",
        "print(abs(num))      # Absolute value"
      ],
      "metadata": {
        "colab": {
          "base_uri": "https://localhost:8080/"
        },
        "id": "UugU7un1WBIc",
        "outputId": "ce0b89a0-2127-4911-d05f-99a84d1851b6"
      },
      "execution_count": null,
      "outputs": [
        {
          "output_type": "stream",
          "name": "stdout",
          "text": [
            "10\n"
          ]
        }
      ]
    },
    {
      "cell_type": "code",
      "source": [
        "print(bin(num))      # Binary representation"
      ],
      "metadata": {
        "colab": {
          "base_uri": "https://localhost:8080/"
        },
        "id": "mPnnmRMPWPqc",
        "outputId": "d703791c-10b1-44ca-b2c9-01cdef9f4552"
      },
      "execution_count": null,
      "outputs": [
        {
          "output_type": "stream",
          "name": "stdout",
          "text": [
            "0b1010\n"
          ]
        }
      ]
    },
    {
      "cell_type": "code",
      "source": [
        "print(hex(num))      # Hexadecimal representation"
      ],
      "metadata": {
        "colab": {
          "base_uri": "https://localhost:8080/"
        },
        "id": "Rg5mJ7GZWWiD",
        "outputId": "ef4e8908-80eb-480c-8d79-83cf0ba68e57"
      },
      "execution_count": null,
      "outputs": [
        {
          "output_type": "stream",
          "name": "stdout",
          "text": [
            "0xa\n"
          ]
        }
      ]
    },
    {
      "cell_type": "code",
      "source": [
        "print(pow(num,2))    # Power function (num^2)"
      ],
      "metadata": {
        "colab": {
          "base_uri": "https://localhost:8080/"
        },
        "id": "ditjNQKwW5cM",
        "outputId": "fb245795-4da2-4838-a87f-6abba8c2f416"
      },
      "execution_count": null,
      "outputs": [
        {
          "output_type": "stream",
          "name": "stdout",
          "text": [
            "100\n"
          ]
        }
      ]
    },
    {
      "cell_type": "code",
      "source": [
        "print(divmod(num,3)) # quotient and remainder"
      ],
      "metadata": {
        "colab": {
          "base_uri": "https://localhost:8080/"
        },
        "id": "mA3e52z9XA68",
        "outputId": "cd4a32b5-8866-4661-fe84-0852eec08312"
      },
      "execution_count": null,
      "outputs": [
        {
          "output_type": "stream",
          "name": "stdout",
          "text": [
            "(3, 1)\n"
          ]
        }
      ]
    },
    {
      "cell_type": "code",
      "source": [
        "# Float\n",
        "price = 99.99"
      ],
      "metadata": {
        "id": "osroI54wXK19"
      },
      "execution_count": null,
      "outputs": []
    },
    {
      "cell_type": "code",
      "source": [
        "# Inbuilt Function and operations for float\n",
        "print(round(price))        # Rounding"
      ],
      "metadata": {
        "colab": {
          "base_uri": "https://localhost:8080/"
        },
        "id": "3o081QhzXNfD",
        "outputId": "7f731af4-d8ed-451a-c671-e8d5117ee55b"
      },
      "execution_count": null,
      "outputs": [
        {
          "output_type": "stream",
          "name": "stdout",
          "text": [
            "100\n"
          ]
        }
      ]
    },
    {
      "cell_type": "code",
      "source": [
        "print(abs(price))          # Absolute value"
      ],
      "metadata": {
        "colab": {
          "base_uri": "https://localhost:8080/"
        },
        "id": "JTJscD99XW8q",
        "outputId": "6034146d-4371-4b6b-e989-5f4ca6cccc2b"
      },
      "execution_count": null,
      "outputs": [
        {
          "output_type": "stream",
          "name": "stdout",
          "text": [
            "99.99\n"
          ]
        }
      ]
    },
    {
      "cell_type": "code",
      "source": [
        "print(int(price))          # Converting to integer"
      ],
      "metadata": {
        "colab": {
          "base_uri": "https://localhost:8080/"
        },
        "id": "VJ91CeFVXid4",
        "outputId": "c0639019-c6e9-4e34-b99a-092943897e80"
      },
      "execution_count": null,
      "outputs": [
        {
          "output_type": "stream",
          "name": "stdout",
          "text": [
            "99\n"
          ]
        }
      ]
    },
    {
      "cell_type": "code",
      "source": [
        "print(float(\"123.45\"))     # Converting String to float"
      ],
      "metadata": {
        "colab": {
          "base_uri": "https://localhost:8080/"
        },
        "id": "Hu1NbV68XlbD",
        "outputId": "ef8c3082-7cf1-468b-87ff-b1d5642db1cf"
      },
      "execution_count": null,
      "outputs": [
        {
          "output_type": "stream",
          "name": "stdout",
          "text": [
            "123.45\n"
          ]
        }
      ]
    },
    {
      "cell_type": "code",
      "source": [
        "print(price.is_integer())   # check if the float is an integer"
      ],
      "metadata": {
        "colab": {
          "base_uri": "https://localhost:8080/"
        },
        "id": "EeaRR3dQXv1q",
        "outputId": "ba6cf5e6-e3db-4aa4-af55-9499d12b4c06"
      },
      "execution_count": null,
      "outputs": [
        {
          "output_type": "stream",
          "name": "stdout",
          "text": [
            "False\n"
          ]
        }
      ]
    },
    {
      "cell_type": "code",
      "source": [
        "# String\n",
        "greeting = \"Hello, world!\""
      ],
      "metadata": {
        "id": "JkxlSlDuX5wk"
      },
      "execution_count": null,
      "outputs": []
    },
    {
      "cell_type": "code",
      "source": [
        "# Inbuilt funcions and operations for string\n",
        "print(greeting.lower())     # convert to lower case"
      ],
      "metadata": {
        "colab": {
          "base_uri": "https://localhost:8080/"
        },
        "id": "CZe-n0TdX_ky",
        "outputId": "7914d21f-0949-4e15-ce1a-c4a991b55a0a"
      },
      "execution_count": null,
      "outputs": [
        {
          "output_type": "stream",
          "name": "stdout",
          "text": [
            "hello, world!\n"
          ]
        }
      ]
    },
    {
      "cell_type": "code",
      "source": [
        "print(greeting.upper())     # Convert to uppercase"
      ],
      "metadata": {
        "colab": {
          "base_uri": "https://localhost:8080/"
        },
        "id": "HCncPIf0YSyp",
        "outputId": "9d57a13e-cc4e-41bd-bae1-4ac67260c44a"
      },
      "execution_count": null,
      "outputs": [
        {
          "output_type": "stream",
          "name": "stdout",
          "text": [
            "HELLO, WORLD!\n"
          ]
        }
      ]
    },
    {
      "cell_type": "code",
      "source": [
        "print(greeting.replace(\"world\", \"Python\"))     # Replace substring"
      ],
      "metadata": {
        "colab": {
          "base_uri": "https://localhost:8080/"
        },
        "id": "iTvUCd09YZyH",
        "outputId": "d0dc8921-1f20-46c4-9708-cf8e0092f527"
      },
      "execution_count": null,
      "outputs": [
        {
          "output_type": "stream",
          "name": "stdout",
          "text": [
            "Hello, Python!\n"
          ]
        }
      ]
    },
    {
      "cell_type": "code",
      "source": [
        "print(greeting.split())        # Split string into a list"
      ],
      "metadata": {
        "colab": {
          "base_uri": "https://localhost:8080/"
        },
        "id": "0K0Nl3fXYjCO",
        "outputId": "c0afc4f1-2af0-4d5f-d7cf-30b8f4985a57"
      },
      "execution_count": null,
      "outputs": [
        {
          "output_type": "stream",
          "name": "stdout",
          "text": [
            "['Hello,', 'world!']\n"
          ]
        }
      ]
    },
    {
      "cell_type": "code",
      "source": [
        "print(greeting.find(\"world\"))  # Find substring"
      ],
      "metadata": {
        "colab": {
          "base_uri": "https://localhost:8080/"
        },
        "id": "JNATXqsHY3cN",
        "outputId": "ad57c57c-3bac-40a6-c36c-b13e46cd80eb"
      },
      "execution_count": null,
      "outputs": [
        {
          "output_type": "stream",
          "name": "stdout",
          "text": [
            "7\n"
          ]
        }
      ]
    },
    {
      "cell_type": "code",
      "source": [
        "print(len(greeting))           # Length of the string"
      ],
      "metadata": {
        "colab": {
          "base_uri": "https://localhost:8080/"
        },
        "id": "1y1AqyHiYoqJ",
        "outputId": "cbc2d2cf-fbbe-4ac7-ff97-dc6c6bf4999f"
      },
      "execution_count": null,
      "outputs": [
        {
          "output_type": "stream",
          "name": "stdout",
          "text": [
            "13\n"
          ]
        }
      ]
    },
    {
      "cell_type": "code",
      "source": [
        "# List\n",
        "fruits = ['apple', 'banana', 'cherry']"
      ],
      "metadata": {
        "id": "f97PhF7lYvyq"
      },
      "execution_count": null,
      "outputs": []
    },
    {
      "cell_type": "code",
      "source": [
        "# Inbuilt functions and operations for list\n",
        "fruits.append(\"orange\")                # Append an element"
      ],
      "metadata": {
        "id": "9haQVMuVZAAu"
      },
      "execution_count": null,
      "outputs": []
    },
    {
      "cell_type": "code",
      "source": [
        "fruits.extend([\"Grape\", \"melon\"])      # Extend list with another list"
      ],
      "metadata": {
        "id": "ecZ736_8ZOvZ"
      },
      "execution_count": null,
      "outputs": []
    },
    {
      "cell_type": "code",
      "source": [
        "fruits"
      ],
      "metadata": {
        "colab": {
          "base_uri": "https://localhost:8080/"
        },
        "id": "TT908-6daGFU",
        "outputId": "15f29c05-93d4-4719-d7bd-2ac650c376e3"
      },
      "execution_count": null,
      "outputs": [
        {
          "output_type": "execute_result",
          "data": {
            "text/plain": [
              "['apple', 'banana', 'cherry', 'orange', 'Grape', 'melon']"
            ]
          },
          "metadata": {},
          "execution_count": 40
        }
      ]
    },
    {
      "cell_type": "code",
      "source": [
        "fruits.remove(\"banana\")       # Remove an element"
      ],
      "metadata": {
        "id": "GHER-VKhZgO-"
      },
      "execution_count": null,
      "outputs": []
    },
    {
      "cell_type": "code",
      "source": [
        "fruits.pop()        # Remove last element"
      ],
      "metadata": {
        "colab": {
          "base_uri": "https://localhost:8080/",
          "height": 36
        },
        "id": "Wl2JpMeYZljx",
        "outputId": "944db2d4-5d2d-4363-f47f-bccef9236324"
      },
      "execution_count": null,
      "outputs": [
        {
          "output_type": "execute_result",
          "data": {
            "text/plain": [
              "'melon'"
            ],
            "application/vnd.google.colaboratory.intrinsic+json": {
              "type": "string"
            }
          },
          "metadata": {},
          "execution_count": 42
        }
      ]
    },
    {
      "cell_type": "code",
      "source": [
        "fruits.sort()       # Sort the list"
      ],
      "metadata": {
        "id": "lslW792mZrTw"
      },
      "execution_count": null,
      "outputs": []
    },
    {
      "cell_type": "code",
      "source": [
        "print(fruits)"
      ],
      "metadata": {
        "colab": {
          "base_uri": "https://localhost:8080/"
        },
        "id": "fLAg5pagZtPQ",
        "outputId": "d3a9c4c0-12d2-437c-cd23-ec80dc4881b3"
      },
      "execution_count": null,
      "outputs": [
        {
          "output_type": "stream",
          "name": "stdout",
          "text": [
            "['Grape', 'apple', 'cherry', 'orange']\n"
          ]
        }
      ]
    },
    {
      "cell_type": "code",
      "source": [
        "print(len(fruits))     # Length of the list"
      ],
      "metadata": {
        "colab": {
          "base_uri": "https://localhost:8080/"
        },
        "id": "T3VlL-QjbFAe",
        "outputId": "db952082-be00-4fa0-db31-68631429ba6e"
      },
      "execution_count": null,
      "outputs": [
        {
          "output_type": "stream",
          "name": "stdout",
          "text": [
            "4\n"
          ]
        }
      ]
    },
    {
      "cell_type": "code",
      "source": [
        "print(fruits[2])       # Access element by index"
      ],
      "metadata": {
        "colab": {
          "base_uri": "https://localhost:8080/"
        },
        "id": "YUiWi7bkbbPb",
        "outputId": "f93facf8-7067-4f3e-e94f-d9066a717eca"
      },
      "execution_count": null,
      "outputs": [
        {
          "output_type": "stream",
          "name": "stdout",
          "text": [
            "cherry\n"
          ]
        }
      ]
    },
    {
      "cell_type": "code",
      "source": [
        "print(fruits.index(\"cherry\"))     # Find index of an element"
      ],
      "metadata": {
        "colab": {
          "base_uri": "https://localhost:8080/"
        },
        "id": "sPzFYoQebG6Z",
        "outputId": "a5ae8b02-f725-4cb6-f2fc-faa9985ef7db"
      },
      "execution_count": null,
      "outputs": [
        {
          "output_type": "stream",
          "name": "stdout",
          "text": [
            "2\n"
          ]
        }
      ]
    },
    {
      "cell_type": "code",
      "source": [
        "print(\"apple\" in fruits)          # Check if an element is in the list"
      ],
      "metadata": {
        "colab": {
          "base_uri": "https://localhost:8080/"
        },
        "id": "pgXy_BhebScE",
        "outputId": "c535251a-793b-4a00-c15b-3eafa14f97a6"
      },
      "execution_count": null,
      "outputs": [
        {
          "output_type": "stream",
          "name": "stdout",
          "text": [
            "True\n"
          ]
        }
      ]
    },
    {
      "cell_type": "code",
      "source": [
        "# Tuple\n",
        "# Tuples are immutable\n",
        "coordinates = (10.0, 20.0)"
      ],
      "metadata": {
        "id": "a_SLwbW0bjZL"
      },
      "execution_count": null,
      "outputs": []
    },
    {
      "cell_type": "code",
      "source": [
        "# Inbuilt functions and operations for Tuple\n",
        "print(coordinates.count(10.0))     # Count occurrences of an element"
      ],
      "metadata": {
        "colab": {
          "base_uri": "https://localhost:8080/"
        },
        "id": "xULxrIBHbpnq",
        "outputId": "5aa31e1e-929a-4206-afe0-53cad672c0b8"
      },
      "execution_count": null,
      "outputs": [
        {
          "output_type": "stream",
          "name": "stdout",
          "text": [
            "1\n"
          ]
        }
      ]
    },
    {
      "cell_type": "code",
      "source": [
        "print(coordinates.index(20.0))        # Find index of an element"
      ],
      "metadata": {
        "colab": {
          "base_uri": "https://localhost:8080/"
        },
        "id": "EPibexfhb2sg",
        "outputId": "f53d10ca-8d07-442b-cece-427dccc11de9"
      },
      "execution_count": null,
      "outputs": [
        {
          "output_type": "stream",
          "name": "stdout",
          "text": [
            "1\n"
          ]
        }
      ]
    },
    {
      "cell_type": "code",
      "source": [
        "print(len(coordinates))               # length of tuple"
      ],
      "metadata": {
        "colab": {
          "base_uri": "https://localhost:8080/"
        },
        "id": "5VndqhuNcDAo",
        "outputId": "31e0fa5f-c9a3-48cc-d399-e8b44ecb7231"
      },
      "execution_count": null,
      "outputs": [
        {
          "output_type": "stream",
          "name": "stdout",
          "text": [
            "2\n"
          ]
        }
      ]
    },
    {
      "cell_type": "code",
      "source": [
        "# convert tuple to list to make them mutable\n",
        "li  = list(coordinates)\n",
        "print(li)"
      ],
      "metadata": {
        "colab": {
          "base_uri": "https://localhost:8080/"
        },
        "id": "C3fRAx4xcfqf",
        "outputId": "f09384e6-cd3a-4dd1-94f6-c6fb7f5315cb"
      },
      "execution_count": null,
      "outputs": [
        {
          "output_type": "stream",
          "name": "stdout",
          "text": [
            "[10.0, 20.0]\n"
          ]
        }
      ]
    },
    {
      "cell_type": "code",
      "source": [
        "coordinates = tuple(li)         # convert list back into tuple\n",
        "print(coordinates)"
      ],
      "metadata": {
        "colab": {
          "base_uri": "https://localhost:8080/"
        },
        "id": "x9OyP0x_csEj",
        "outputId": "3c4154e4-9fee-4e68-a723-65b7017a41c3"
      },
      "execution_count": null,
      "outputs": [
        {
          "output_type": "stream",
          "name": "stdout",
          "text": [
            "(10.0, 20.0)\n"
          ]
        }
      ]
    },
    {
      "cell_type": "code",
      "source": [
        "# Dictionary\n",
        "person = {'name' : 'John', 'age' : 25}"
      ],
      "metadata": {
        "id": "7KGPceCCcToJ"
      },
      "execution_count": null,
      "outputs": []
    },
    {
      "cell_type": "code",
      "source": [
        "# Inbuilt functions and operations for Dictionary\n",
        "print(person.keys())       # get all keys"
      ],
      "metadata": {
        "colab": {
          "base_uri": "https://localhost:8080/"
        },
        "id": "BAVyXtDocc1f",
        "outputId": "270f6903-1618-490b-a662-6227e5d8e4ef"
      },
      "execution_count": null,
      "outputs": [
        {
          "output_type": "stream",
          "name": "stdout",
          "text": [
            "dict_keys(['name', 'age'])\n"
          ]
        }
      ]
    },
    {
      "cell_type": "code",
      "source": [
        "print(person.values())     # get all values"
      ],
      "metadata": {
        "colab": {
          "base_uri": "https://localhost:8080/"
        },
        "id": "L4ZH75_7i2AY",
        "outputId": "a381b79e-82f0-48ba-c14c-1d60ba095ba0"
      },
      "execution_count": null,
      "outputs": [
        {
          "output_type": "stream",
          "name": "stdout",
          "text": [
            "dict_values(['John', 25])\n"
          ]
        }
      ]
    },
    {
      "cell_type": "code",
      "source": [
        "print(person.items())      # get all key-value pairs"
      ],
      "metadata": {
        "colab": {
          "base_uri": "https://localhost:8080/"
        },
        "id": "ezi4hyPSi-iE",
        "outputId": "e8200110-75d9-4b52-9158-e59bf4900364"
      },
      "execution_count": null,
      "outputs": [
        {
          "output_type": "stream",
          "name": "stdout",
          "text": [
            "dict_items([('name', 'John'), ('age', 25)])\n"
          ]
        }
      ]
    },
    {
      "cell_type": "code",
      "source": [
        "print(person.get('name'))       # get value by key"
      ],
      "metadata": {
        "colab": {
          "base_uri": "https://localhost:8080/"
        },
        "id": "df8GHbrtjDHD",
        "outputId": "6054a72e-784c-4cde-c855-924c410417c5"
      },
      "execution_count": null,
      "outputs": [
        {
          "output_type": "stream",
          "name": "stdout",
          "text": [
            "John\n"
          ]
        }
      ]
    },
    {
      "cell_type": "code",
      "source": [
        "person.update({\"height\" : 180})     # update dictionary with another dictionary"
      ],
      "metadata": {
        "id": "Wpyk754PjUie"
      },
      "execution_count": null,
      "outputs": []
    },
    {
      "cell_type": "code",
      "source": [
        "person"
      ],
      "metadata": {
        "colab": {
          "base_uri": "https://localhost:8080/"
        },
        "id": "b_G1ICYmjgUj",
        "outputId": "45e81e68-f0c9-44c4-ce71-4383169f3a62"
      },
      "execution_count": null,
      "outputs": [
        {
          "output_type": "execute_result",
          "data": {
            "text/plain": [
              "{'name': 'John', 'age': 25, 'height': 180}"
            ]
          },
          "metadata": {},
          "execution_count": 63
        }
      ]
    },
    {
      "cell_type": "code",
      "source": [
        "person.pop(\"age\")      # remove key-value pair by key"
      ],
      "metadata": {
        "colab": {
          "base_uri": "https://localhost:8080/"
        },
        "id": "FOiZJQ6ejit9",
        "outputId": "254ef414-03bb-4cc2-fb08-88531ba522ed"
      },
      "execution_count": null,
      "outputs": [
        {
          "output_type": "execute_result",
          "data": {
            "text/plain": [
              "25"
            ]
          },
          "metadata": {},
          "execution_count": 64
        }
      ]
    },
    {
      "cell_type": "code",
      "source": [
        "person"
      ],
      "metadata": {
        "colab": {
          "base_uri": "https://localhost:8080/"
        },
        "id": "U1Kql4JqjoqN",
        "outputId": "ab561106-dbb1-4c0e-8fbb-4541d5fa85a0"
      },
      "execution_count": null,
      "outputs": [
        {
          "output_type": "execute_result",
          "data": {
            "text/plain": [
              "{'name': 'John', 'height': 180}"
            ]
          },
          "metadata": {},
          "execution_count": 65
        }
      ]
    },
    {
      "cell_type": "code",
      "source": [
        "print(len(person))     # length of dictionary"
      ],
      "metadata": {
        "colab": {
          "base_uri": "https://localhost:8080/"
        },
        "id": "NqcDyF3JjrOA",
        "outputId": "ff5d09bc-1fb2-4716-a5c1-c5f1f69cbbda"
      },
      "execution_count": null,
      "outputs": [
        {
          "output_type": "stream",
          "name": "stdout",
          "text": [
            "2\n"
          ]
        }
      ]
    },
    {
      "cell_type": "code",
      "source": [
        "# Set\n",
        "s = {1,2,3,4}\n",
        "print(s)"
      ],
      "metadata": {
        "colab": {
          "base_uri": "https://localhost:8080/"
        },
        "id": "0y7e3V-JjzHr",
        "outputId": "af464108-7581-49ee-bcc0-dbc18335e7d1"
      },
      "execution_count": null,
      "outputs": [
        {
          "output_type": "stream",
          "name": "stdout",
          "text": [
            "{1, 2, 3, 4}\n"
          ]
        }
      ]
    },
    {
      "cell_type": "code",
      "source": [
        "# not allow duplicates\n",
        "se = {1,1,1,1,1}"
      ],
      "metadata": {
        "id": "Dj43LyHwj3tL"
      },
      "execution_count": null,
      "outputs": []
    },
    {
      "cell_type": "code",
      "source": [
        "se"
      ],
      "metadata": {
        "colab": {
          "base_uri": "https://localhost:8080/"
        },
        "id": "LO4DOslYj8uW",
        "outputId": "ceb5c042-e446-453a-c31a-e2f51bc612f2"
      },
      "execution_count": null,
      "outputs": [
        {
          "output_type": "execute_result",
          "data": {
            "text/plain": [
              "{1}"
            ]
          },
          "metadata": {},
          "execution_count": 72
        }
      ]
    },
    {
      "cell_type": "code",
      "source": [
        "# length\n",
        "print(len(s))"
      ],
      "metadata": {
        "colab": {
          "base_uri": "https://localhost:8080/"
        },
        "id": "Nnm1LEymj_Zo",
        "outputId": "5bd72912-9ec0-4f4e-dc67-d631fc8ab133"
      },
      "execution_count": null,
      "outputs": [
        {
          "output_type": "stream",
          "name": "stdout",
          "text": [
            "4\n"
          ]
        }
      ]
    },
    {
      "cell_type": "code",
      "source": [
        "# add\n",
        "s.add(5)"
      ],
      "metadata": {
        "id": "drwGizK7kHni"
      },
      "execution_count": null,
      "outputs": []
    },
    {
      "cell_type": "code",
      "source": [
        "s.update({10,11,12})     # add another set"
      ],
      "metadata": {
        "id": "dyCJDK64kPhy"
      },
      "execution_count": null,
      "outputs": []
    },
    {
      "cell_type": "code",
      "source": [
        "s.remove(10)"
      ],
      "metadata": {
        "id": "J_7qNu1ckVXY"
      },
      "execution_count": null,
      "outputs": []
    },
    {
      "cell_type": "code",
      "source": [
        "s"
      ],
      "metadata": {
        "colab": {
          "base_uri": "https://localhost:8080/"
        },
        "id": "unbmBA_XkYgz",
        "outputId": "6c914bea-6390-446d-c962-5bb3fda41e52"
      },
      "execution_count": null,
      "outputs": [
        {
          "output_type": "execute_result",
          "data": {
            "text/plain": [
              "{1, 2, 3, 4, 5, 11, 12}"
            ]
          },
          "metadata": {},
          "execution_count": 79
        }
      ]
    },
    {
      "cell_type": "code",
      "source": [
        "# Boolean\n",
        "is_active = True"
      ],
      "metadata": {
        "id": "EW5F40yGkaLz"
      },
      "execution_count": null,
      "outputs": []
    },
    {
      "cell_type": "code",
      "source": [
        "# Inbuilt functions and operations for boolean\n",
        "print(int(is_active))              # Convert to integer (1 for True, 0 for False)"
      ],
      "metadata": {
        "colab": {
          "base_uri": "https://localhost:8080/"
        },
        "id": "vvKAF6qJkhlF",
        "outputId": "5788c842-b6fe-4e3f-ea0e-e6fb02063ee0"
      },
      "execution_count": null,
      "outputs": [
        {
          "output_type": "stream",
          "name": "stdout",
          "text": [
            "1\n"
          ]
        }
      ]
    },
    {
      "cell_type": "code",
      "source": [
        "print(bool(0))                    # Convert integer to boolean (False)"
      ],
      "metadata": {
        "colab": {
          "base_uri": "https://localhost:8080/"
        },
        "id": "ijn5xW-Yk3Ok",
        "outputId": "727bfca3-b9ff-4027-a898-dc33ee6db167"
      },
      "execution_count": null,
      "outputs": [
        {
          "output_type": "stream",
          "name": "stdout",
          "text": [
            "False\n"
          ]
        }
      ]
    },
    {
      "cell_type": "code",
      "source": [
        "print(bool(1))                    # Convert integer to boolean (True)"
      ],
      "metadata": {
        "colab": {
          "base_uri": "https://localhost:8080/"
        },
        "id": "FGUQHteIlBdR",
        "outputId": "17cea11e-19fe-4c09-8bd3-efe09b22a9fe"
      },
      "execution_count": null,
      "outputs": [
        {
          "output_type": "stream",
          "name": "stdout",
          "text": [
            "True\n"
          ]
        }
      ]
    },
    {
      "cell_type": "code",
      "source": [
        "print(bool(\"Hello\"))              # Convert String to boolean (True)"
      ],
      "metadata": {
        "colab": {
          "base_uri": "https://localhost:8080/"
        },
        "id": "QImFF0cmlDR8",
        "outputId": "4762d213-b0de-4430-8468-1dec0fa45aaf"
      },
      "execution_count": null,
      "outputs": [
        {
          "output_type": "stream",
          "name": "stdout",
          "text": [
            "True\n"
          ]
        }
      ]
    },
    {
      "cell_type": "code",
      "source": [
        "print(is_active and False)        # Logical AND"
      ],
      "metadata": {
        "colab": {
          "base_uri": "https://localhost:8080/"
        },
        "id": "g3DjbpxSlPR5",
        "outputId": "3666b382-236e-4de0-8627-669b123e97ab"
      },
      "execution_count": null,
      "outputs": [
        {
          "output_type": "stream",
          "name": "stdout",
          "text": [
            "False\n"
          ]
        }
      ]
    },
    {
      "cell_type": "code",
      "source": [
        "print(is_active or False)        # Logical OR"
      ],
      "metadata": {
        "colab": {
          "base_uri": "https://localhost:8080/"
        },
        "id": "XPpTugF7lUb3",
        "outputId": "c68e0c37-c067-4166-acb0-f2f5bdd7487d"
      },
      "execution_count": null,
      "outputs": [
        {
          "output_type": "stream",
          "name": "stdout",
          "text": [
            "True\n"
          ]
        }
      ]
    },
    {
      "cell_type": "code",
      "source": [
        "print(not is_active)             # Logical NOT"
      ],
      "metadata": {
        "colab": {
          "base_uri": "https://localhost:8080/"
        },
        "id": "AsnB3z0FlaZ5",
        "outputId": "f58e3f95-56ee-4a42-bf19-4f70248d23c6"
      },
      "execution_count": null,
      "outputs": [
        {
          "output_type": "stream",
          "name": "stdout",
          "text": [
            "False\n"
          ]
        }
      ]
    },
    {
      "cell_type": "code",
      "source": [],
      "metadata": {
        "id": "pYviMGiLleOt"
      },
      "execution_count": null,
      "outputs": []
    },
    {
      "cell_type": "markdown",
      "source": [
        "# Conditionals\n"
      ],
      "metadata": {
        "id": "l2fixg1Glssy"
      }
    },
    {
      "cell_type": "markdown",
      "source": [
        "**Definition** - Conditional Statements in Python (if, elif, else) are used to execute code based on certain conditions.\n",
        "\n",
        "**Use Case in Real Life** - Conditionals can be used in and e-commerce application to provide different pricing tiers based on user memebership levels(e.g., standard, premium, VIP)."
      ],
      "metadata": {
        "id": "vrP6hc5wlyeR"
      }
    },
    {
      "cell_type": "code",
      "source": [
        "# Basic if - else statement\n",
        "age = 20\n",
        "\n",
        "if (age < 18):\n",
        "    print(\"Minor\")\n",
        "elif age >= 18 and age <= 65:\n",
        "    print(\"Adult\")\n",
        "else:\n",
        "    print(\"Senior\")"
      ],
      "metadata": {
        "colab": {
          "base_uri": "https://localhost:8080/"
        },
        "id": "Osic6iuQmWyf",
        "outputId": "c1c2078e-1fee-4997-b39f-a9c594b1af36"
      },
      "execution_count": null,
      "outputs": [
        {
          "output_type": "stream",
          "name": "stdout",
          "text": [
            "Adult\n"
          ]
        }
      ]
    },
    {
      "cell_type": "code",
      "source": [
        "# Checking even or odd number\n",
        "number = 42\n",
        "if number % 2 == 0:\n",
        "    print(\"Even number\")\n",
        "else:\n",
        "    print(\"Odd number\")"
      ],
      "metadata": {
        "colab": {
          "base_uri": "https://localhost:8080/"
        },
        "id": "wQjw20JUm1GG",
        "outputId": "a88738a9-6368-4c1b-8701-0fbe5b72ab2b"
      },
      "execution_count": null,
      "outputs": [
        {
          "output_type": "stream",
          "name": "stdout",
          "text": [
            "Even number\n"
          ]
        }
      ]
    },
    {
      "cell_type": "code",
      "source": [
        "# Grade Evaluation\n",
        "score = 85\n",
        "if score >= 90:\n",
        "  print(\"Grade A\")\n",
        "elif score >= 80:\n",
        "  print(\"Grade B\")\n",
        "elif score >= 70:\n",
        "  print(\"Grade C\")\n",
        "elif score >= 60:\n",
        "  print(\"Grade D\")\n",
        "else:\n",
        "  print(\"Grade F\")\n"
      ],
      "metadata": {
        "colab": {
          "base_uri": "https://localhost:8080/"
        },
        "id": "do2a2SuQ6eJv",
        "outputId": "7116de7f-c4d2-4a0e-dee3-a7c211cceda4"
      },
      "execution_count": 1,
      "outputs": [
        {
          "output_type": "stream",
          "name": "stdout",
          "text": [
            "Grade B\n"
          ]
        }
      ]
    },
    {
      "cell_type": "code",
      "source": [
        "# temperature check:\n",
        "temperature = 30\n",
        "if temperature > 30:\n",
        "    print(\"It's hot outside.\")\n",
        "elif temperature >= 20:\n",
        "  print(\"It's a nice day.\")\n",
        "else:\n",
        "    print(\"It's cold outside.\")"
      ],
      "metadata": {
        "colab": {
          "base_uri": "https://localhost:8080/"
        },
        "id": "2OOUDita6spp",
        "outputId": "b5c0947b-e607-460e-850f-2f29cb7c729f"
      },
      "execution_count": 2,
      "outputs": [
        {
          "output_type": "stream",
          "name": "stdout",
          "text": [
            "It's a nice day.\n"
          ]
        }
      ]
    },
    {
      "cell_type": "code",
      "source": [
        "# Nested conditionals for BMI Calculation\n",
        "weight = 70\n",
        "height = 1.75\n",
        "bmi = weight / (height * height)\n",
        "\n",
        "if bmi < 18.5:\n",
        "    print(\"Underweight\")\n",
        "else:\n",
        "    if bmi < 25:\n",
        "        print(\"Normal weight\")\n",
        "    else:\n",
        "        if bmi < 30:\n",
        "            print(\"Overweight\")\n",
        "        else:\n",
        "            print(\"Obese\")"
      ],
      "metadata": {
        "colab": {
          "base_uri": "https://localhost:8080/"
        },
        "id": "ZRr4NbGU7A68",
        "outputId": "e4e725de-c421-468b-b083-a41a7582b195"
      },
      "execution_count": 3,
      "outputs": [
        {
          "output_type": "stream",
          "name": "stdout",
          "text": [
            "Normal weight\n"
          ]
        }
      ]
    },
    {
      "cell_type": "code",
      "source": [
        "# Traffic Light System:\n",
        "traffic_light = \"red\"\n",
        "\n",
        "if traffic_light == \"red\":\n",
        "    print(\"Stop\")\n",
        "elif traffic_light == \"yellow\":\n",
        "    print(\"Slow down\")\n",
        "elif traffic_light == \"green\":\n",
        "    print(\"Go\")"
      ],
      "metadata": {
        "colab": {
          "base_uri": "https://localhost:8080/"
        },
        "id": "xNMyex4n7dtD",
        "outputId": "bad45dde-76ff-4b77-bd47-ff61ad49e8a4"
      },
      "execution_count": 4,
      "outputs": [
        {
          "output_type": "stream",
          "name": "stdout",
          "text": [
            "Stop\n"
          ]
        }
      ]
    },
    {
      "cell_type": "code",
      "source": [
        "# User login status:\n",
        "is_logged_in = True\n",
        "has_permission = True\n",
        "\n",
        "if is_logged_in:\n",
        "  if has_permission:\n",
        "    print(\"Access Granted\");\n",
        "  else:\n",
        "    print(\"Access Denied: Insufficient permission\");\n",
        "else:\n",
        "  print(\"access denied: User not logged in\")"
      ],
      "metadata": {
        "colab": {
          "base_uri": "https://localhost:8080/"
        },
        "id": "p-vHLmbk7rcx",
        "outputId": "13ffc1c3-874d-4dc0-9ce3-8772f8ab44e1"
      },
      "execution_count": 5,
      "outputs": [
        {
          "output_type": "stream",
          "name": "stdout",
          "text": [
            "Access Granted\n"
          ]
        }
      ]
    },
    {
      "cell_type": "code",
      "source": [
        "# Age based discount:\n",
        "age = 70\n",
        "\n",
        "if age < 18:\n",
        "  print(\"Eligible for child discount\")\n",
        "elif age >= 65:\n",
        "  print(\"Eligible for senior discount\")\n",
        "else:\n",
        "  print(\"Regular pricing\")"
      ],
      "metadata": {
        "colab": {
          "base_uri": "https://localhost:8080/"
        },
        "id": "Oe5yYm_18TNr",
        "outputId": "201d2fe1-3f43-415a-a8ca-7f5a628b863a"
      },
      "execution_count": 8,
      "outputs": [
        {
          "output_type": "stream",
          "name": "stdout",
          "text": [
            "Eligible for senior discount\n"
          ]
        }
      ]
    },
    {
      "cell_type": "code",
      "source": [
        "# Multiple condition (AND/OR)\n",
        "temperature = 25\n",
        "weather = \"Sunny\"\n",
        "\n",
        "if temperature > 20 and weather == \"Sunny\":\n",
        "    print(\"It's a great day for walk.\")\n",
        "elif temperature <= 20 or weather != \"Sunny\":\n",
        "    print(\"May be stay indoors today\")\n",
        "else:\n",
        "  print(\"weather conditions are unusual\")"
      ],
      "metadata": {
        "colab": {
          "base_uri": "https://localhost:8080/"
        },
        "id": "Ow0z-yKI8l_i",
        "outputId": "4c56c325-2cfd-4f77-ea8d-0853940dcd86"
      },
      "execution_count": 9,
      "outputs": [
        {
          "output_type": "stream",
          "name": "stdout",
          "text": [
            "It's a great day for walk.\n"
          ]
        }
      ]
    },
    {
      "cell_type": "markdown",
      "source": [
        "# Loops"
      ],
      "metadata": {
        "id": "wtZEcyjJ9f81"
      }
    },
    {
      "cell_type": "markdown",
      "source": [
        "**Definition** - Loops are used to execute a block a code repeatedly. Python supports for and while loops.\n",
        "\n",
        "**Use Case in Real Life** - Loops can be used to process items in a list. For instance, in a payroll system, a for loop could iterate through a list of employees and calculate their salaries."
      ],
      "metadata": {
        "id": "FUzH51Zq9jRo"
      }
    },
    {
      "cell_type": "code",
      "source": [
        "# For Loop\n",
        "for i in range(5):\n",
        "  print(i)"
      ],
      "metadata": {
        "colab": {
          "base_uri": "https://localhost:8080/"
        },
        "id": "i0o-YP-y-OsL",
        "outputId": "977e25d5-6197-4d6e-d903-1d2bc0acbf2b"
      },
      "execution_count": 10,
      "outputs": [
        {
          "output_type": "stream",
          "name": "stdout",
          "text": [
            "0\n",
            "1\n",
            "2\n",
            "3\n",
            "4\n"
          ]
        }
      ]
    },
    {
      "cell_type": "code",
      "source": [
        "# Iterating over a list\n",
        "fruits = ['apple', 'banana', 'cherry', 'date']\n",
        "\n",
        "for fruit in fruits:\n",
        "  print(fruit)"
      ],
      "metadata": {
        "colab": {
          "base_uri": "https://localhost:8080/"
        },
        "id": "uRGHfttl-iLU",
        "outputId": "a37c8ed8-b142-4fe5-ca87-e78ef0b135a5"
      },
      "execution_count": 12,
      "outputs": [
        {
          "output_type": "stream",
          "name": "stdout",
          "text": [
            "apple\n",
            "banana\n",
            "cherry\n",
            "date\n"
          ]
        }
      ]
    },
    {
      "cell_type": "code",
      "source": [
        "# Iterating over a String\n",
        "greeting = \"Hello\"\n",
        "\n",
        "for char in greeting:\n",
        "  print(char)"
      ],
      "metadata": {
        "colab": {
          "base_uri": "https://localhost:8080/"
        },
        "id": "p439Dd5H-zQM",
        "outputId": "e4a83372-17fe-4b0e-cdd4-d0edd27736c3"
      },
      "execution_count": 13,
      "outputs": [
        {
          "output_type": "stream",
          "name": "stdout",
          "text": [
            "H\n",
            "e\n",
            "l\n",
            "l\n",
            "o\n"
          ]
        }
      ]
    },
    {
      "cell_type": "code",
      "source": [
        "# iterating over a dictionary\n",
        "person = {'name' : 'John', 'age' : 25}\n",
        "\n",
        "for key, value in person.items():\n",
        "  print(f\"{key} : {value}\")"
      ],
      "metadata": {
        "colab": {
          "base_uri": "https://localhost:8080/"
        },
        "id": "Q-pfhm3d_jmW",
        "outputId": "16141ce4-164d-4bd2-ccf4-032e82401973"
      },
      "execution_count": 14,
      "outputs": [
        {
          "output_type": "stream",
          "name": "stdout",
          "text": [
            "name : John\n",
            "age : 25\n"
          ]
        }
      ]
    },
    {
      "cell_type": "code",
      "source": [
        "# using the range function with a Step\n",
        "for i in range(0, 10, 2):\n",
        "  print(i)"
      ],
      "metadata": {
        "colab": {
          "base_uri": "https://localhost:8080/"
        },
        "id": "91ZIJAMK_v25",
        "outputId": "5b7675d0-d0f4-4988-bae5-790086c7a45b"
      },
      "execution_count": 15,
      "outputs": [
        {
          "output_type": "stream",
          "name": "stdout",
          "text": [
            "0\n",
            "2\n",
            "4\n",
            "6\n",
            "8\n"
          ]
        }
      ]
    },
    {
      "cell_type": "code",
      "source": [
        "# Nested for loops:\n",
        "for i in range(3):\n",
        "  for j in range(2):\n",
        "    print(f\"i = {i}, j = {j}\")"
      ],
      "metadata": {
        "colab": {
          "base_uri": "https://localhost:8080/"
        },
        "id": "RomYRlo7_8ok",
        "outputId": "523e86ca-a3b8-443e-e412-1fb66754889c"
      },
      "execution_count": 16,
      "outputs": [
        {
          "output_type": "stream",
          "name": "stdout",
          "text": [
            "i = 0, j = 0\n",
            "i = 0, j = 1\n",
            "i = 1, j = 0\n",
            "i = 1, j = 1\n",
            "i = 2, j = 0\n",
            "i = 2, j = 1\n"
          ]
        }
      ]
    },
    {
      "cell_type": "code",
      "source": [
        "# using the 'enumerate()' function\n",
        "fruits = ['apple', 'banana', 'cherry']\n",
        "\n",
        "for index, fruit in enumerate(fruits):\n",
        "  print(f\"{index} : {fruit}\")"
      ],
      "metadata": {
        "colab": {
          "base_uri": "https://localhost:8080/"
        },
        "id": "6A7kwMD0AYol",
        "outputId": "8427ba24-cff0-4e6e-e7a9-f263e1e90ed6"
      },
      "execution_count": 17,
      "outputs": [
        {
          "output_type": "stream",
          "name": "stdout",
          "text": [
            "0 : apple\n",
            "1 : banana\n",
            "2 : cherry\n"
          ]
        }
      ]
    },
    {
      "cell_type": "code",
      "source": [
        "# while loop\n",
        "count = 0\n",
        "while count < 5:\n",
        "  print(count)\n",
        "  count += 1\n"
      ],
      "metadata": {
        "colab": {
          "base_uri": "https://localhost:8080/"
        },
        "id": "kjT1SOcIAm5b",
        "outputId": "93135d2c-a590-432b-bc43-e1f1628d40e5"
      },
      "execution_count": 19,
      "outputs": [
        {
          "output_type": "stream",
          "name": "stdout",
          "text": [
            "0\n"
          ]
        }
      ]
    },
    {
      "cell_type": "code",
      "source": [
        "# while loop with Break\n",
        "count = 0\n",
        "while count < 5:\n",
        "  print(count)\n",
        "  count += 1\n",
        "  if count >= 5:\n",
        "    break\n"
      ],
      "metadata": {
        "colab": {
          "base_uri": "https://localhost:8080/"
        },
        "id": "aKN7TnpNAxXT",
        "outputId": "710bd7d5-abcd-4177-fbb8-f593f5853c32"
      },
      "execution_count": 20,
      "outputs": [
        {
          "output_type": "stream",
          "name": "stdout",
          "text": [
            "0\n",
            "1\n",
            "2\n",
            "3\n",
            "4\n"
          ]
        }
      ]
    },
    {
      "cell_type": "code",
      "source": [
        "i=0\n",
        "while i<10:\n",
        "  print(i)\n",
        "  break\n",
        "  i+=1"
      ],
      "metadata": {
        "colab": {
          "base_uri": "https://localhost:8080/"
        },
        "id": "OVANbdwzCFKt",
        "outputId": "8e3c64f3-a704-4371-e7f7-0e68c1fd08e4"
      },
      "execution_count": 25,
      "outputs": [
        {
          "output_type": "stream",
          "name": "stdout",
          "text": [
            "0\n"
          ]
        }
      ]
    },
    {
      "cell_type": "code",
      "source": [
        "# while loop with Continue\n",
        "count = 0\n",
        "while count < 10:\n",
        "  count += 1\n",
        "  if count % 2 == 0:\n",
        "    continue\n",
        "  print(count)"
      ],
      "metadata": {
        "colab": {
          "base_uri": "https://localhost:8080/"
        },
        "id": "W-0ZwyM_BKpn",
        "outputId": "eb0ba30f-aff1-479e-b521-2ca932542fbf"
      },
      "execution_count": 23,
      "outputs": [
        {
          "output_type": "stream",
          "name": "stdout",
          "text": [
            "1\n",
            "3\n",
            "5\n",
            "7\n",
            "9\n"
          ]
        }
      ]
    },
    {
      "cell_type": "code",
      "source": [
        "# using a while loop to process User Input:\n",
        "user_input = \"\"\n",
        "while user_input.lower() != 'quit':\n",
        "  user_input = input(\"Enter a word (or 'quit' to exit): \")\n",
        "  print(f\"You entered: {user_input}\")"
      ],
      "metadata": {
        "colab": {
          "base_uri": "https://localhost:8080/"
        },
        "id": "vFuEgq6bCVp5",
        "outputId": "c1b439ad-5a4b-4958-dca3-e5915bbf7e00"
      },
      "execution_count": 26,
      "outputs": [
        {
          "output_type": "stream",
          "name": "stdout",
          "text": [
            "Enter a word (or 'quit' to exit): hi\n",
            "You entered: hi\n",
            "Enter a word (or 'quit' to exit): hello\n",
            "You entered: hello\n",
            "Enter a word (or 'quit' to exit): quit\n",
            "You entered: quit\n"
          ]
        }
      ]
    },
    {
      "cell_type": "code",
      "source": [
        "# Iterating a countdown\n",
        "countdown = 10\n",
        "while countdown > 0:\n",
        "  print(countdown)\n",
        "  countdown -= 1\n",
        "print(\"Blast off\")"
      ],
      "metadata": {
        "colab": {
          "base_uri": "https://localhost:8080/"
        },
        "id": "KNItY7wYDWsT",
        "outputId": "a94ebeff-ed38-4539-eb04-3e00344f23d8"
      },
      "execution_count": 27,
      "outputs": [
        {
          "output_type": "stream",
          "name": "stdout",
          "text": [
            "10\n",
            "9\n",
            "8\n",
            "7\n",
            "6\n",
            "5\n",
            "4\n",
            "3\n",
            "2\n",
            "1\n",
            "Blast off\n"
          ]
        }
      ]
    },
    {
      "cell_type": "code",
      "source": [
        "# using a while loop for validation:\n",
        "password = \"\"\n",
        "while len(password) < 8:\n",
        "  password = input(\"Enter a password (at least 8 characters): \")\n",
        "  if len(password) < 8:\n",
        "    print(\"password too short. Try again.\")\n",
        "print(\"Password accepted\")"
      ],
      "metadata": {
        "colab": {
          "base_uri": "https://localhost:8080/"
        },
        "id": "rWIErzxPDgpW",
        "outputId": "d82fe67f-b777-4ba6-cd00-16d9b6c7a299"
      },
      "execution_count": 28,
      "outputs": [
        {
          "output_type": "stream",
          "name": "stdout",
          "text": [
            "Enter a password (at least 8 characters): vanshika\n",
            "Password accepted\n"
          ]
        }
      ]
    },
    {
      "cell_type": "markdown",
      "source": [
        "# Real Life Example - Managing a Grocery store Inventory"
      ],
      "metadata": {
        "id": "UQP8Fj8DFFjc"
      }
    },
    {
      "cell_type": "markdown",
      "source": [
        "**definition** - this example combines variables, data types, conditionals, and loops to manage a grocery store inventory.\n",
        "\n",
        "**Use Case in Real Life** - A grocery store needs to keep track of its inventory, update it based on sales and restocks, and check the status of items"
      ],
      "metadata": {
        "id": "xy58RNgWFNh2"
      }
    },
    {
      "cell_type": "code",
      "source": [
        "# variables in store inventory data\n",
        "store_name = \"Green Grocery\"\n",
        "inventory = {\n",
        "    \"apples\" : 50,\n",
        "    \"bananas\" : 30,\n",
        "    \"cherries\" : 20\n",
        "}\n",
        "# Data type : Dictionary to store inventory\n",
        "# Data type : Integer for item quantities\n",
        "\n",
        "# Conditional: check inventory status\n",
        "def check_inventory(item):\n",
        "  if inventory[item] > 0:\n",
        "    return f\"{item.capitalize()} are in stock: {inventory[item]}\"\n",
        "  else:\n",
        "    return f\"{item.capitalize()} are out of stock.\"\n",
        "\n",
        "# Loop : update inventory\n",
        "def update_inventory(item, quantity):\n",
        "  if item in inventory:\n",
        "    inventory[item] += quantity\n",
        "  else:\n",
        "    inventory[item] = quantity\n",
        "\n",
        "# Check and update directory\n",
        "print(check_inventory(\"apples\"))\n",
        "update_inventory(\"apples\", -10)\n",
        "print(check_inventory(\"apples\"))\n",
        "update_inventory(\"oranges\", 40)\n",
        "print(check_inventory(\"oranges\"))\n",
        "\n"
      ],
      "metadata": {
        "colab": {
          "base_uri": "https://localhost:8080/"
        },
        "id": "dOWWuCVlFz-k",
        "outputId": "7e5df07b-7de1-4ddc-a8cd-73c88629537e"
      },
      "execution_count": 29,
      "outputs": [
        {
          "output_type": "stream",
          "name": "stdout",
          "text": [
            "Apples are in stock: 50\n",
            "Apples are in stock: 40\n",
            "Oranges are in stock: 40\n"
          ]
        }
      ]
    }
  ]
}